{
 "cells": [
  {
   "cell_type": "markdown",
   "metadata": {
    "collapsed": true
   },
   "source": [
    "# System identification of Lindblad master equation"
   ]
  },
  {
   "cell_type": "code",
   "execution_count": 1,
   "metadata": {},
   "outputs": [],
   "source": [
    "import numpy as np\n",
    "import matplotlib.pyplot as plt\n",
    "from scipy.linalg import expm, inv, norm\n",
    "from qutip import rand_herm, rand_dm, mesolve, Qobj\n",
    "\n",
    "from ncpol2sdpa import generate_variables, SdpRelaxation\n",
    "from sympy import Matrix, I, eye, re, im, diag"
   ]
  },
  {
   "cell_type": "markdown",
   "metadata": {},
   "source": [
    "# utilities"
   ]
  },
  {
   "cell_type": "code",
   "execution_count": 2,
   "metadata": {},
   "outputs": [],
   "source": [
    "def unknown_complex_matrix(name, n):\n",
    "    return Matrix(n, n, generate_variables('Re' + name, n * n)) \\\n",
    "        + I * Matrix(n, n, generate_variables('Im' + name, n * n))"
   ]
  },
  {
   "cell_type": "code",
   "execution_count": 3,
   "metadata": {},
   "outputs": [],
   "source": [
    "def unknown_hermitian_matrix(name, n):\n",
    "    \n",
    "    x = generate_variables(name, n ** 2)\n",
    "    M = diag(*x[:n])\n",
    "    M /= 2\n",
    "    x = x[n:]\n",
    "\n",
    "    for i in range(n - 1):\n",
    "        for j in range(i + 1, n):\n",
    "            M[i, j] = x.pop() + I * x.pop()\n",
    "            \n",
    "    M += M.H\n",
    "    \n",
    "    return M"
   ]
  },
  {
   "cell_type": "markdown",
   "metadata": {},
   "source": [
    "# Generate data"
   ]
  },
  {
   "cell_type": "code",
   "execution_count": 4,
   "metadata": {},
   "outputs": [
    {
     "data": {
      "image/png": "[encoded data removed]",
      "text/plain": [
       "<Figure size 432x288 with 1 Axes>"
      ]
     },
     "metadata": {
      "needs_background": "light"
     },
     "output_type": "display_data"
    }
   ],
   "source": [
    "H_exact = rand_herm(2)\n",
    "A_exact = rand_herm(2) + 1j * rand_herm(2)\n",
    "\n",
    "results = mesolve(H_exact, rand_dm(2), np.linspace(0, 10, 100), [A_exact])\n",
    "\n",
    "plt.title(\"Evolution of purity\")\n",
    "plt.plot(results.times, [_.purity() for _ in results.states])\n",
    "plt.xlabel('$t$')\n",
    "plt.ylabel('Purity')\n",
    "plt.show()"
   ]
  },
  {
   "cell_type": "code",
   "execution_count": 5,
   "metadata": {},
   "outputs": [],
   "source": [
    "# Comvert states to numpy array\n",
    "rho = [_.data.toarray() for _ in results.states]"
   ]
  },
  {
   "cell_type": "markdown",
   "metadata": {},
   "source": [
    "# Define objective function"
   ]
  },
  {
   "cell_type": "code",
   "execution_count": 6,
   "metadata": {},
   "outputs": [],
   "source": [
    "H = unknown_hermitian_matrix('H', 2)\n",
    "A = unknown_complex_matrix('A', H.shape[0])\n",
    "\n",
    "def rhs(rho):\n",
    "    \"\"\"\n",
    "    Right hand side of the Lindblad master equation\n",
    "    \"\"\"\n",
    "    return -I * (H @ rho - rho @ H) \\\n",
    "        + A @ rho @ A.H - (A.H @ A @ rho - rho @ A.H @ A) / 2"
   ]
  },
  {
   "cell_type": "code",
   "execution_count": 7,
   "metadata": {},
   "outputs": [],
   "source": [
    "# the density matrix integrated over time\n",
    "int_rho = np.trapz(\n",
    "    rho,\n",
    "    x=results.times,\n",
    "    axis=0\n",
    ")"
   ]
  },
  {
   "cell_type": "code",
   "execution_count": 8,
   "metadata": {},
   "outputs": [],
   "source": [
    "obj = (rho[-1] - rho[0] - rhs(int_rho)).norm() ** 2\n",
    "obj = re(obj.simplify())"
   ]
  },
  {
   "cell_type": "code",
   "execution_count": null,
   "metadata": {},
   "outputs": [],
   "source": [
    "level = 3\n",
    "\n",
    "sdp = SdpRelaxation(list(obj.free_symbols))\n",
    "sdp.get_relaxation(level, objective=obj)\n",
    "sdp.solve(solver='mosek')\n",
    "\n",
    "# extract the values of control\n",
    "if sdp.status == 'optimal':\n",
    "    solution = {var: sdp[var] for var in sdp.variables}\n",
    "else:\n",
    "    solution = None"
   ]
  },
  {
   "cell_type": "code",
   "execution_count": null,
   "metadata": {},
   "outputs": [],
   "source": [
    "obj.subs(solution)"
   ]
  },
  {
   "cell_type": "code",
   "execution_count": null,
   "metadata": {},
   "outputs": [],
   "source": []
  }
 ],
 "metadata": {
  "kernelspec": {
   "display_name": "Python 3",
   "language": "python",
   "name": "python3"
  },
  "language_info": {
   "codemirror_mode": {
    "name": "ipython",
    "version": 3
   },
   "file_extension": ".py",
   "mimetype": "text/x-python",
   "name": "python",
   "nbconvert_exporter": "python",
   "pygments_lexer": "ipython3",
   "version": "3.8.5"
  }
 },
 "nbformat": 4,
 "nbformat_minor": 1
}
