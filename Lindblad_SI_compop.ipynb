{
 "cells": [
  {
   "cell_type": "markdown",
   "metadata": {
    "collapsed": true
   },
   "source": [
    "# System identification of Lindblad master equation"
   ]
  },
  {
   "cell_type": "code",
   "execution_count": 215,
   "metadata": {},
   "outputs": [],
   "source": [
    "import numpy as np\n",
    "import matplotlib.pyplot as plt\n",
    "from scipy.linalg import expm, inv, norm\n",
    "from qutip import rand_herm, rand_dm, mesolve, Qobj\n",
    "\n",
    "from ncpol2sdpa import generate_variables, SdpRelaxation\n",
    "from sympy import Matrix, I, eye, re, im, diag, solve"
   ]
  },
  {
   "cell_type": "markdown",
   "metadata": {},
   "source": [
    "# utilities"
   ]
  },
  {
   "cell_type": "code",
   "execution_count": 216,
   "metadata": {},
   "outputs": [],
   "source": [
    "def unknown_complex_matrix(name, n):\n",
    "    return Matrix(n, n, generate_variables('Re' + name, n * n)) \\\n",
    "        + I * Matrix(n, n, generate_variables('Im' + name, n * n))"
   ]
  },
  {
   "cell_type": "code",
   "execution_count": 217,
   "metadata": {},
   "outputs": [],
   "source": [
    "def unknown_real_matrix(name, n):\n",
    "    return Matrix(n, n, generate_variables(name, n * n))"
   ]
  },
  {
   "cell_type": "code",
   "execution_count": 218,
   "metadata": {},
   "outputs": [],
   "source": [
    "def unknown_hermitian_matrix(name, n):\n",
    "    \n",
    "    x = generate_variables(name, n ** 2)\n",
    "    M = diag(*x[:n])\n",
    "    M /= 2\n",
    "    x = x[n:]\n",
    "\n",
    "    for i in range(n - 1):\n",
    "        for j in range(i + 1, n):\n",
    "            M[i, j] = x.pop() + I * x.pop()\n",
    "            \n",
    "    M += M.H\n",
    "    \n",
    "    return M"
   ]
  },
  {
   "cell_type": "markdown",
   "metadata": {},
   "source": [
    "# Generate data"
   ]
  },
  {
   "cell_type": "code",
   "execution_count": 219,
   "metadata": {},
   "outputs": [
    {
     "data": {
      "image/png": "[encoded data removed]",
      "text/plain": [
       "<Figure size 432x288 with 1 Axes>"
      ]
     },
     "metadata": {
      "needs_background": "light"
     },
     "output_type": "display_data"
    }
   ],
   "source": [
    "H_exact = rand_herm(2)\n",
    "A_exact = 0 * rand_herm(2) \n",
    "\n",
    "results = mesolve(H_exact, rand_dm(2), np.linspace(0, 10, 100), [A_exact])\n",
    "# Comvert states to numpy array\n",
    "rho = [_.data.toarray() for _ in results.states]\n",
    "\n",
    "plt.title(\"Evolution of purity\")\n",
    "plt.plot(results.times, [_.purity() for _ in results.states])\n",
    "plt.xlabel('$t$')\n",
    "plt.ylabel('Purity')\n",
    "plt.show()"
   ]
  },
  {
   "cell_type": "code",
   "execution_count": 220,
   "metadata": {},
   "outputs": [
    {
     "data": {
      "text/latex": [
       "Quantum object: dims = [[2], [2]], shape = (2, 2), type = oper, isherm = True\\begin{equation*}\\left(\\begin{array}{*{11}c}0.0 & 0.0\\\\0.0 & 0.0\\\\\\end{array}\\right)\\end{equation*}"
      ],
      "text/plain": [
       "Quantum object: dims = [[2], [2]], shape = (2, 2), type = oper, isherm = True\n",
       "Qobj data =\n",
       "[[0. 0.]\n",
       " [0. 0.]]"
      ]
     },
     "execution_count": 220,
     "metadata": {},
     "output_type": "execute_result"
    }
   ],
   "source": [
    "H_exact * A_exact - A_exact * H_exact"
   ]
  },
  {
   "cell_type": "markdown",
   "metadata": {},
   "source": [
    "# Define objective function"
   ]
  },
  {
   "cell_type": "code",
   "execution_count": 221,
   "metadata": {},
   "outputs": [],
   "source": [
    "H = unknown_hermitian_matrix('H', 2)\n",
    "A = 0 * unknown_hermitian_matrix('A', H.shape[0])\n",
    "\n",
    "def rhs(rho):\n",
    "    \"\"\"\n",
    "    Right hand side of the Lindblad master equation\n",
    "    \"\"\"\n",
    "    return -I * (H @ rho - rho @ H) \\\n",
    "        + A @ rho @ A.H - (A.H @ A @ rho + rho @ A.H @ A) / 2"
   ]
  },
  {
   "cell_type": "code",
   "execution_count": 222,
   "metadata": {},
   "outputs": [],
   "source": [
    "# the density matrix integrated over time\n",
    "int_rho = np.trapz(\n",
    "    rho,\n",
    "    x=results.times,\n",
    "    axis=0\n",
    ")"
   ]
  },
  {
   "cell_type": "code",
   "execution_count": 223,
   "metadata": {},
   "outputs": [],
   "source": [
    "obj = (rho[-1] - rho[0] - rhs(int_rho)).norm() ** 2\n",
    "obj = re(obj.simplify())"
   ]
  },
  {
   "cell_type": "markdown",
   "metadata": {},
   "source": [
    "## Check that the exact solution zeros the objective function"
   ]
  },
  {
   "cell_type": "code",
   "execution_count": 224,
   "metadata": {},
   "outputs": [
    {
     "data": {
      "text/latex": [
       "$\\displaystyle 1.11429543414587 \\cdot 10^{-6}$"
      ],
      "text/plain": [
       "1.11429543414587e-6"
      ]
     },
     "execution_count": 224,
     "metadata": {},
     "output_type": "execute_result"
    }
   ],
   "source": [
    "exact_solution = solve(H - H_exact) \n",
    "#exact_solution.update(solve(A - A_exact))\n",
    "#exact_solution = solve(A - A_exact)\n",
    "obj.subs(exact_solution)"
   ]
  },
  {
   "cell_type": "code",
   "execution_count": 225,
   "metadata": {},
   "outputs": [],
   "source": [
    "level = 2\n",
    "\n",
    "sdp = SdpRelaxation(list(obj.free_symbols))\n",
    "sdp.get_relaxation(level, objective=obj)\n",
    "sdp.solve(solver='mosek')\n",
    "\n",
    "# extract the values of control\n",
    "if sdp.status == 'optimal':\n",
    "    solution = {var: sdp[var] for var in sdp.variables}\n",
    "else:\n",
    "    solution = None"
   ]
  },
  {
   "cell_type": "code",
   "execution_count": 226,
   "metadata": {},
   "outputs": [
    {
     "data": {
      "text/latex": [
       "$\\displaystyle 2.8995683631905 \\cdot 10^{-10}$"
      ],
      "text/plain": [
       "2.89956836319050e-10"
      ]
     },
     "execution_count": 226,
     "metadata": {},
     "output_type": "execute_result"
    }
   ],
   "source": [
    "obj.subs(solution)"
   ]
  },
  {
   "cell_type": "code",
   "execution_count": 227,
   "metadata": {},
   "outputs": [
    {
     "data": {
      "text/latex": [
       "$\\displaystyle \\left[\\begin{matrix}-0.00012630441349454 & 0.122239072819451 + 0.019665955970448 i\\\\0.122239072819451 - 0.019665955970448 i & -0.00445937662834058\\end{matrix}\\right]$"
      ],
      "text/plain": [
       "Matrix([\n",
       "[                   -0.00012630441349454, 0.122239072819451 + 0.019665955970448*I],\n",
       "[0.122239072819451 - 0.019665955970448*I,                    -0.00445937662834058]])"
      ]
     },
     "execution_count": 227,
     "metadata": {},
     "output_type": "execute_result"
    }
   ],
   "source": [
    "H.subs(solution)"
   ]
  },
  {
   "cell_type": "code",
   "execution_count": 228,
   "metadata": {},
   "outputs": [
    {
     "data": {
      "text/latex": [
       "Quantum object: dims = [[2], [2]], shape = (2, 2), type = oper, isherm = True\\begin{equation*}\\left(\\begin{array}{*{11}c}-0.935 & (0.300-0.520j)\\\\(0.300+0.520j) & 0.0\\\\\\end{array}\\right)\\end{equation*}"
      ],
      "text/plain": [
       "Quantum object: dims = [[2], [2]], shape = (2, 2), type = oper, isherm = True\n",
       "Qobj data =\n",
       "[[-0.93485182+0.j          0.29987414-0.52039106j]\n",
       " [ 0.29987414+0.52039106j  0.        +0.j        ]]"
      ]
     },
     "execution_count": 228,
     "metadata": {},
     "output_type": "execute_result"
    }
   ],
   "source": [
    "H_exact"
   ]
  },
  {
   "cell_type": "markdown",
   "metadata": {},
   "source": [
    "# Second cost function"
   ]
  },
  {
   "cell_type": "code",
   "execution_count": 229,
   "metadata": {},
   "outputs": [],
   "source": [
    "obj = 0\n",
    "\n",
    "for t in range(2, len(rho) + 1):\n",
    "    # the density matrix integrated over time\n",
    "    int_rho = np.trapz(\n",
    "        rho[:t],\n",
    "        x=results.times[:t],\n",
    "        axis=0\n",
    "    )\n",
    "    \n",
    "    obj += (rho[t - 1] - rho[0] - rhs(int_rho)).norm() ** 2\n",
    "\n",
    "obj = re(obj.simplify())"
   ]
  },
  {
   "cell_type": "markdown",
   "metadata": {},
   "source": [
    "## Check that the exact solution zeros the objective function"
   ]
  },
  {
   "cell_type": "code",
   "execution_count": 230,
   "metadata": {},
   "outputs": [
    {
     "data": {
      "text/latex": [
       "$\\displaystyle 5.73117439301996 \\cdot 10^{-5}$"
      ],
      "text/plain": [
       "5.73117439301996e-5"
      ]
     },
     "execution_count": 230,
     "metadata": {},
     "output_type": "execute_result"
    }
   ],
   "source": [
    "obj.subs(exact_solution)"
   ]
  },
  {
   "cell_type": "code",
   "execution_count": 231,
   "metadata": {},
   "outputs": [],
   "source": [
    "level = 2\n",
    "\n",
    "sdp = SdpRelaxation(list(obj.free_symbols))\n",
    "sdp.get_relaxation(level, objective=obj)\n",
    "sdp.solve(solver='mosek')\n",
    "\n",
    "# extract the values of control\n",
    "if sdp.status == 'optimal':\n",
    "    solution = {var: sdp[var] for var in sdp.variables}\n",
    "else:\n",
    "    solution = None"
   ]
  },
  {
   "cell_type": "code",
   "execution_count": 232,
   "metadata": {},
   "outputs": [
    {
     "data": {
      "text/latex": [
       "$\\displaystyle 1.36152777940879 \\cdot 10^{-9}$"
      ],
      "text/plain": [
       "1.36152777940879e-9"
      ]
     },
     "execution_count": 232,
     "metadata": {},
     "output_type": "execute_result"
    }
   ],
   "source": [
    "obj.subs(solution)"
   ]
  },
  {
   "cell_type": "code",
   "execution_count": 233,
   "metadata": {},
   "outputs": [
    {
     "data": {
      "text/plain": [
       "{H2: -0.521419741411833,\n",
       " H1: 0.478852150398684,\n",
       " H3: 0.3004683143171373,\n",
       " H0: -0.4578483112188852}"
      ]
     },
     "execution_count": 233,
     "metadata": {},
     "output_type": "execute_result"
    }
   ],
   "source": [
    "solution"
   ]
  },
  {
   "cell_type": "code",
   "execution_count": 239,
   "metadata": {},
   "outputs": [
    {
     "data": {
      "text/latex": [
       "$\\displaystyle \\left[\\begin{matrix}-0.460386106994832 & 0.299516204205339 - 0.521487106978261 i\\\\0.299516204205339 + 0.521487106978261 i & 0.462734519656319\\end{matrix}\\right]$"
      ],
      "text/plain": [
       "Matrix([\n",
       "[                     -0.460386106994832, 0.299516204205339 - 0.521487106978261*I],\n",
       "[0.299516204205339 + 0.521487106978261*I,                       0.462734519656319]])"
      ]
     },
     "execution_count": 239,
     "metadata": {},
     "output_type": "execute_result"
    }
   ],
   "source": [
    "H.subs(solution)"
   ]
  },
  {
   "cell_type": "markdown",
   "metadata": {},
   "source": [
    "# Objective function inspired by implicit Euler method"
   ]
  },
  {
   "cell_type": "code",
   "execution_count": 234,
   "metadata": {},
   "outputs": [],
   "source": [
    "dt = results.times[1] - results.times[0]\n",
    "\n",
    "obj = 0\n",
    "\n",
    "for t in range(1, len(rho)):\n",
    "    \n",
    "    obj += (rho[t] - rho[t - 1] - dt * rhs(rho[t])).norm() ** 2\n",
    "\n",
    "obj = re(obj.simplify())"
   ]
  },
  {
   "cell_type": "markdown",
   "metadata": {},
   "source": [
    "## Check that the exact solution zeros the objective function"
   ]
  },
  {
   "cell_type": "code",
   "execution_count": 235,
   "metadata": {},
   "outputs": [
    {
     "data": {
      "text/latex": [
       "$\\displaystyle 0.00105128314387846$"
      ],
      "text/plain": [
       "0.00105128314387846"
      ]
     },
     "execution_count": 235,
     "metadata": {},
     "output_type": "execute_result"
    }
   ],
   "source": [
    "obj.subs(exact_solution)"
   ]
  },
  {
   "cell_type": "code",
   "execution_count": 236,
   "metadata": {},
   "outputs": [],
   "source": [
    "level = 4\n",
    "\n",
    "sdp = SdpRelaxation(list(obj.free_symbols))\n",
    "sdp.get_relaxation(level, objective=obj)\n",
    "sdp.solve(solver='mosek')\n",
    "\n",
    "# extract the values of control\n",
    "if sdp.status == 'optimal':\n",
    "    solution = {var: sdp[var] for var in sdp.variables}\n",
    "else:\n",
    "    solution = None"
   ]
  },
  {
   "cell_type": "code",
   "execution_count": 237,
   "metadata": {},
   "outputs": [
    {
     "data": {
      "text/latex": [
       "$\\displaystyle 0.00103929465637209$"
      ],
      "text/plain": [
       "0.00103929465637209"
      ]
     },
     "execution_count": 237,
     "metadata": {},
     "output_type": "execute_result"
    }
   ],
   "source": [
    "obj.subs(solution)"
   ]
  },
  {
   "cell_type": "code",
   "execution_count": 238,
   "metadata": {},
   "outputs": [
    {
     "data": {
      "text/plain": [
       "{H2: -0.5214871069782613,\n",
       " H1: 0.46273451965631923,\n",
       " H3: 0.29951620420533903,\n",
       " H0: -0.4603861069948322}"
      ]
     },
     "execution_count": 238,
     "metadata": {},
     "output_type": "execute_result"
    }
   ],
   "source": [
    "solution"
   ]
  },
  {
   "cell_type": "markdown",
   "metadata": {},
   "source": [
    "# Vectorization"
   ]
  },
  {
   "cell_type": "code",
   "execution_count": null,
   "metadata": {},
   "outputs": [],
   "source": [
    "G = unknown_complex_matrix('G', H.shape[0] * H.shape[1])\n",
    "e = eye(H.shape[0] * H.shape[1])\n",
    "\n",
    "obj = 0\n",
    "\n",
    "for t in range(1, len(rho)):\n",
    "    obj += (\n",
    "        Matrix(rho[t].reshape(-1))\n",
    "        - G @ Matrix(rho[t-1].reshape(-1))\n",
    "    ).norm() ** 2\n",
    "\n",
    "obj = re(obj.simplify())"
   ]
  },
  {
   "cell_type": "code",
   "execution_count": null,
   "metadata": {},
   "outputs": [],
   "source": [
    "level = 1\n",
    "\n",
    "sdp = SdpRelaxation(list(obj.free_symbols))\n",
    "sdp.get_relaxation(level, objective=obj)\n",
    "sdp.solve(solver='mosek')\n",
    "\n",
    "# extract the values of control\n",
    "if sdp.status == 'optimal':\n",
    "    solution = {var: sdp[var] for var in sdp.variables}\n",
    "else:\n",
    "    solution = None"
   ]
  },
  {
   "cell_type": "code",
   "execution_count": null,
   "metadata": {},
   "outputs": [],
   "source": [
    "obj.subs(solution)"
   ]
  },
  {
   "cell_type": "code",
   "execution_count": null,
   "metadata": {},
   "outputs": [],
   "source": [
    "g = np.array(G.subs(solution), np.complex)"
   ]
  },
  {
   "cell_type": "code",
   "execution_count": null,
   "metadata": {},
   "outputs": [],
   "source": [
    "np.abs(g @ g.conj().T)"
   ]
  },
  {
   "cell_type": "code",
   "execution_count": null,
   "metadata": {},
   "outputs": [],
   "source": [
    "np.abs(g.conj().T - g)"
   ]
  },
  {
   "cell_type": "code",
   "execution_count": null,
   "metadata": {},
   "outputs": [],
   "source": []
  }
 ],
 "metadata": {
  "kernelspec": {
   "display_name": "Python 3",
   "language": "python",
   "name": "python3"
  },
  "language_info": {
   "codemirror_mode": {
    "name": "ipython",
    "version": 3
   },
   "file_extension": ".py",
   "mimetype": "text/x-python",
   "name": "python",
   "nbconvert_exporter": "python",
   "pygments_lexer": "ipython3",
   "version": "3.8.5"
  }
 },
 "nbformat": 4,
 "nbformat_minor": 1
}
