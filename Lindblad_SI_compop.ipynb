{
 "cells": [
  {
   "cell_type": "markdown",
   "metadata": {
    "collapsed": true
   },
   "source": [
    "# System identification of Lindblad master equation"
   ]
  },
  {
   "cell_type": "code",
   "execution_count": 1,
   "metadata": {},
   "outputs": [],
   "source": [
    "import numpy as np\n",
    "import matplotlib.pyplot as plt\n",
    "from scipy.linalg import expm, inv, norm\n",
    "from qutip import rand_herm, rand_dm, mesolve, Qobj, fidelity\n",
    "\n",
    "from ncpol2sdpa import generate_variables, SdpRelaxation\n",
    "from sympy import Matrix, I, eye, re, im, diag, solve, lambdify\n",
    "\n",
    "from scipy.optimize import minimize"
   ]
  },
  {
   "cell_type": "markdown",
   "metadata": {},
   "source": [
    "# utilities"
   ]
  },
  {
   "cell_type": "code",
   "execution_count": 2,
   "metadata": {},
   "outputs": [],
   "source": [
    "def unknown_complex_matrix(name, n):\n",
    "    return Matrix(n, n, generate_variables('Re' + name, n * n)) \\\n",
    "        + I * Matrix(n, n, generate_variables('Im' + name, n * n))"
   ]
  },
  {
   "cell_type": "code",
   "execution_count": 3,
   "metadata": {},
   "outputs": [],
   "source": [
    "def unknown_complex_tracless_matrix(name, n):\n",
    "    result = Matrix(n, n, generate_variables('Re' + name, n * n - 1) + [0,])\n",
    "    result += I * Matrix(n, n, generate_variables('Im' + name, n * n - 1) + [0,])\n",
    "    \n",
    "    result[-1, -1] = -result.trace()\n",
    "    return result"
   ]
  },
  {
   "cell_type": "code",
   "execution_count": 4,
   "metadata": {},
   "outputs": [],
   "source": [
    "def unknown_real_matrix(name, n):\n",
    "    return Matrix(n, n, generate_variables(name, n * n))"
   ]
  },
  {
   "cell_type": "code",
   "execution_count": 5,
   "metadata": {},
   "outputs": [],
   "source": [
    "def unknown_hermitian_matrix(name, n):\n",
    "    \n",
    "    x = generate_variables(name, n ** 2)\n",
    "    M = diag(*x[:n])\n",
    "    M /= 2\n",
    "    x = x[n:]\n",
    "\n",
    "    for i in range(n - 1):\n",
    "        for j in range(i + 1, n):\n",
    "            M[i, j] = x.pop() + I * x.pop()\n",
    "            \n",
    "    M += M.H\n",
    "    \n",
    "    return M"
   ]
  },
  {
   "cell_type": "markdown",
   "metadata": {},
   "source": [
    "# Generate data"
   ]
  },
  {
   "cell_type": "code",
   "execution_count": 6,
   "metadata": {},
   "outputs": [
    {
     "data": {
      "image/png": "[encoded data removed]",
      "text/plain": [
       "<Figure size 432x288 with 1 Axes>"
      ]
     },
     "metadata": {
      "needs_background": "light"
     },
     "output_type": "display_data"
    }
   ],
   "source": [
    "H_exact = rand_herm(2)\n",
    "                    \n",
    "A_exact = np.random.rand(2, 2) + 1j * np.random.rand(2, 2)\n",
    "#A_exact[-1, -1] = 0\n",
    "#A_exact[-1, -1] = -A_exact.trace()\n",
    "\n",
    "results = mesolve(H_exact, rand_dm(2), np.linspace(0, 10, 100), [Qobj(A_exact)])\n",
    "# Comvert states to numpy array\n",
    "rho = [_.data.toarray() for _ in results.states]\n",
    "\n",
    "plt.title(\"Evolution of purity\")\n",
    "plt.plot(results.times, [_.purity() for _ in results.states])\n",
    "plt.xlabel('$t$')\n",
    "plt.ylabel('Purity')\n",
    "plt.show()"
   ]
  },
  {
   "cell_type": "code",
   "execution_count": 7,
   "metadata": {},
   "outputs": [
    {
     "data": {
      "text/plain": [
       "array([[ 0.        +0.j        ,  0.36292987+0.05537801j],\n",
       "       [-0.34080413-0.06397304j,  0.        +0.j        ]])"
      ]
     },
     "execution_count": 7,
     "metadata": {},
     "output_type": "execute_result"
    }
   ],
   "source": [
    "H_exact * A_exact - A_exact * H_exact"
   ]
  },
  {
   "cell_type": "markdown",
   "metadata": {},
   "source": [
    "# Define objective function"
   ]
  },
  {
   "cell_type": "code",
   "execution_count": 8,
   "metadata": {},
   "outputs": [],
   "source": [
    "H = unknown_hermitian_matrix('H', 2)\n",
    "A = unknown_complex_matrix('A', H.shape[0])\n",
    "\n",
    "def rhs(rho):\n",
    "    \"\"\"\n",
    "    Right hand side of the Lindblad master equation\n",
    "    \"\"\"\n",
    "    return -I * (H @ rho - rho @ H) \\\n",
    "        + A @ rho @ A.H - (A.H @ A @ rho + rho @ A.H @ A) / 2"
   ]
  },
  {
   "cell_type": "code",
   "execution_count": 9,
   "metadata": {},
   "outputs": [],
   "source": [
    "# the density matrix integrated over time\n",
    "int_rho = np.trapz(\n",
    "    rho,\n",
    "    x=results.times,\n",
    "    axis=0\n",
    ")"
   ]
  },
  {
   "cell_type": "code",
   "execution_count": 10,
   "metadata": {},
   "outputs": [],
   "source": [
    "obj = (rho[-1] - rho[0] - rhs(int_rho)).norm() ** 2\n",
    "obj = re(obj.simplify())"
   ]
  },
  {
   "cell_type": "markdown",
   "metadata": {},
   "source": [
    "## Check that the exact solution zeros the objective function"
   ]
  },
  {
   "cell_type": "code",
   "execution_count": 11,
   "metadata": {},
   "outputs": [
    {
     "data": {
      "text/latex": [
       "$\\displaystyle 4.53860619131774 \\cdot 10^{-6}$"
      ],
      "text/plain": [
       "4.53860619131774e-6"
      ]
     },
     "execution_count": 11,
     "metadata": {},
     "output_type": "execute_result"
    }
   ],
   "source": [
    "exact_solution = solve(H - H_exact) \n",
    "exact_solution.update(solve(A - A_exact))\n",
    "\n",
    "obj.subs(exact_solution)"
   ]
  },
  {
   "cell_type": "code",
   "execution_count": 12,
   "metadata": {},
   "outputs": [
    {
     "data": {
      "text/plain": [
       "\"\\nlevel = 2\\n\\nsdp = SdpRelaxation(list(obj.free_symbols))\\nsdp.get_relaxation(level, objective=obj)\\nsdp.solve(solver='mosek')\\n\\n# extract the values of control\\nif sdp.status == 'optimal':\\n    solution = {var: sdp[var] for var in sdp.variables}\\nelse:\\n    solution = None\\n\\nobj.subs(solution)\\n\""
      ]
     },
     "execution_count": 12,
     "metadata": {},
     "output_type": "execute_result"
    }
   ],
   "source": [
    "\"\"\"\n",
    "level = 2\n",
    "\n",
    "sdp = SdpRelaxation(list(obj.free_symbols))\n",
    "sdp.get_relaxation(level, objective=obj)\n",
    "sdp.solve(solver='mosek')\n",
    "\n",
    "# extract the values of control\n",
    "if sdp.status == 'optimal':\n",
    "    solution = {var: sdp[var] for var in sdp.variables}\n",
    "else:\n",
    "    solution = None\n",
    "\n",
    "obj.subs(solution)\n",
    "\"\"\""
   ]
  },
  {
   "cell_type": "code",
   "execution_count": 13,
   "metadata": {},
   "outputs": [],
   "source": [
    "#H.subs(solution)"
   ]
  },
  {
   "cell_type": "markdown",
   "metadata": {},
   "source": [
    "## using Scipy for minimization"
   ]
  },
  {
   "cell_type": "code",
   "execution_count": 14,
   "metadata": {},
   "outputs": [],
   "source": [
    "# get the objective function\n",
    "f = re(obj)\n",
    "\n",
    "# list of unknowns\n",
    "x = list(obj.free_symbols)\n",
    "\n",
    "# symbolically get the Jacobian\n",
    "jac = [f.diff(_) for _ in x]\n",
    "\n",
    "f = lambdify(x, f, 'numpy')\n",
    "jac = lambdify(x, jac, 'numpy')\n",
    "\n",
    "# Use the conjugate gradient method in scipy since we have both the Jacobian and Hessian of the objective function\n",
    "scipy_solution = minimize(\n",
    "    lambda _: f(*_),\n",
    "    np.ones(len(x)),\n",
    "    jac=lambda _: jac(*_),\n",
    ")\n",
    "\n",
    "if scipy_solution.success:\n",
    "    solution = dict(zip(x, scipy_solution.x))\n",
    "    \n",
    "    H_reconstructed = np.array(H.subs(solution), dtype=np.complex)\n",
    "    A_reconstructed = np.array(A.subs(solution), dtype=np.complex)\n",
    "    \n",
    "else:\n",
    "    solution = H_reconstructed = A_reconstructed = None"
   ]
  },
  {
   "cell_type": "code",
   "execution_count": 15,
   "metadata": {},
   "outputs": [
    {
     "data": {
      "text/plain": [
       "(array([[1.05959755+0.49069581j, 0.76323277+1.30699608j],\n",
       "        [0.72523977+0.32330397j, 0.93232269+1.42562195j]]),\n",
       " array([[0.29108624+0.20817412j, 0.90034625+0.13738021j],\n",
       "        [0.84545735+0.15870254j, 0.96406715+0.96810648j]]))"
      ]
     },
     "execution_count": 15,
     "metadata": {},
     "output_type": "execute_result"
    }
   ],
   "source": [
    "A_reconstructed, A_exact"
   ]
  },
  {
   "cell_type": "code",
   "execution_count": 16,
   "metadata": {},
   "outputs": [
    {
     "data": {
      "image/png": "[encoded data removed]",
      "text/plain": [
       "<Figure size 432x288 with 1 Axes>"
      ]
     },
     "metadata": {
      "needs_background": "light"
     },
     "output_type": "display_data"
    },
    {
     "data": {
      "image/png": "[encoded data removed]",
      "text/plain": [
       "<Figure size 432x288 with 1 Axes>"
      ]
     },
     "metadata": {
      "needs_background": "light"
     },
     "output_type": "display_data"
    }
   ],
   "source": [
    "results_reconstructed = mesolve(\n",
    "    Qobj(H_reconstructed), Qobj(rho[0]), results.times, [Qobj(A_reconstructed)]\n",
    ")\n",
    "\n",
    "plt.title(\"Evolution of purity\")\n",
    "plt.plot(\n",
    "    results.times, \n",
    "    [_.purity() for _ in results_reconstructed.states],\n",
    "    label='reconstructed'\n",
    ")\n",
    "plt.plot(\n",
    "    results.times, \n",
    "    [_.purity() for _ in results.states],\n",
    "    label='exact'\n",
    ")\n",
    "\n",
    "plt.xlabel('$t$')\n",
    "plt.ylabel('Purity')\n",
    "plt.legend()\n",
    "plt.show()\n",
    "\n",
    "plt.title(\"Fidelity between reconstructed and exact dynamics\")\n",
    "plt.plot(\n",
    "    results.times, \n",
    "    [fidelity(rho1, rho2) for rho1, rho2 in zip(results_reconstructed.states, results.states)]\n",
    ")\n",
    "\n",
    "plt.xlabel('$t$')\n",
    "plt.ylabel('Purity')\n",
    "plt.show()"
   ]
  },
  {
   "cell_type": "markdown",
   "metadata": {},
   "source": [
    "# Second cost function"
   ]
  },
  {
   "cell_type": "code",
   "execution_count": null,
   "metadata": {},
   "outputs": [],
   "source": [
    "obj = 0\n",
    "\n",
    "for t in range(2, len(rho) + 1):\n",
    "    # the density matrix integrated over time\n",
    "    int_rho = np.trapz(\n",
    "        rho[:t],\n",
    "        x=results.times[:t],\n",
    "        axis=0\n",
    "    )\n",
    "    \n",
    "    obj += (rho[t - 1] - rho[0] - rhs(int_rho)).norm() ** 2\n",
    "\n",
    "obj = re(obj.simplify())"
   ]
  },
  {
   "cell_type": "markdown",
   "metadata": {},
   "source": [
    "## Check that the exact solution zeros the objective function"
   ]
  },
  {
   "cell_type": "code",
   "execution_count": null,
   "metadata": {},
   "outputs": [],
   "source": [
    "obj.subs(exact_solution)"
   ]
  },
  {
   "cell_type": "code",
   "execution_count": null,
   "metadata": {},
   "outputs": [],
   "source": [
    "\"\"\"\n",
    "level = 2\n",
    "\n",
    "sdp = SdpRelaxation(list(obj.free_symbols))\n",
    "sdp.get_relaxation(level, objective=obj)\n",
    "sdp.solve(solver='mosek')\n",
    "\n",
    "# extract the values of control\n",
    "if sdp.status == 'optimal':\n",
    "    solution = {var: sdp[var] for var in sdp.variables}\n",
    "else:\n",
    "    solution = None\n",
    "\n",
    "obj.subs(solution)\n",
    "\"\"\""
   ]
  },
  {
   "cell_type": "code",
   "execution_count": null,
   "metadata": {},
   "outputs": [],
   "source": [
    "#H.subs(solution)"
   ]
  },
  {
   "cell_type": "markdown",
   "metadata": {},
   "source": [
    "# using Scipy for minimization"
   ]
  },
  {
   "cell_type": "code",
   "execution_count": null,
   "metadata": {},
   "outputs": [],
   "source": [
    "# get the objective function\n",
    "f = re(obj)\n",
    "\n",
    "# list of unknowns\n",
    "x = list(obj.free_symbols)\n",
    "\n",
    "# symbolically get the Jacobian\n",
    "jac = [f.diff(_) for _ in x]\n",
    "\n",
    "f = lambdify(x, f, 'numpy')\n",
    "jac = lambdify(x, jac, 'numpy')\n",
    "\n",
    "# Use the conjugate gradient method in scipy since we have both the Jacobian and Hessian of the objective function\n",
    "scipy_solution = minimize(\n",
    "    lambda _: f(*_),\n",
    "    np.ones(len(x)),\n",
    "    jac=lambda _: jac(*_),\n",
    ")\n",
    "\n",
    "if scipy_solution.success:\n",
    "    solution = dict(zip(x, scipy_solution.x))\n",
    "    \n",
    "    H_reconstructed = np.array(H.subs(solution), dtype=np.complex)\n",
    "    A_reconstructed = np.array(A.subs(solution), dtype=np.complex)\n",
    "    \n",
    "else:\n",
    "    solution = H_reconstructed = A_reconstructed = None"
   ]
  },
  {
   "cell_type": "code",
   "execution_count": null,
   "metadata": {},
   "outputs": [],
   "source": [
    "A_reconstructed, A_exact"
   ]
  },
  {
   "cell_type": "code",
   "execution_count": null,
   "metadata": {},
   "outputs": [],
   "source": [
    "results_reconstructed = mesolve(\n",
    "    Qobj(H_reconstructed), Qobj(rho[0]), results.times, [Qobj(A_reconstructed)]\n",
    ")\n",
    "\n",
    "plt.title(\"Evolution of purity\")\n",
    "plt.plot(\n",
    "    results.times, \n",
    "    [_.purity() for _ in results_reconstructed.states],\n",
    "    label='reconstructed'\n",
    ")\n",
    "plt.plot(\n",
    "    results.times, \n",
    "    [_.purity() for _ in results.states],\n",
    "    label='exact'\n",
    ")\n",
    "\n",
    "plt.xlabel('$t$')\n",
    "plt.ylabel('Purity')\n",
    "plt.legend()\n",
    "plt.show()\n",
    "\n",
    "plt.title(\"Fidelity between reconstructed and exact dynamics\")\n",
    "plt.plot(\n",
    "    results.times, \n",
    "    [fidelity(rho1, rho2) for rho1, rho2 in zip(results_reconstructed.states, results.states)]\n",
    ")\n",
    "\n",
    "plt.xlabel('$t$')\n",
    "plt.ylabel('Purity')\n",
    "plt.show()"
   ]
  },
  {
   "cell_type": "markdown",
   "metadata": {},
   "source": [
    "# Objective function inspired by implicit Euler method"
   ]
  },
  {
   "cell_type": "code",
   "execution_count": null,
   "metadata": {},
   "outputs": [],
   "source": [
    "dt = results.times[1] - results.times[0]\n",
    "\n",
    "obj = 0\n",
    "\n",
    "for t in range(1, len(rho)):\n",
    "    \n",
    "    obj += (rho[t] - rho[t - 1] - dt * rhs(rho[t])).norm() ** 2\n",
    "\n",
    "obj = re(obj.simplify())"
   ]
  },
  {
   "cell_type": "markdown",
   "metadata": {},
   "source": [
    "## Check that the exact solution zeros the objective function"
   ]
  },
  {
   "cell_type": "code",
   "execution_count": null,
   "metadata": {},
   "outputs": [],
   "source": [
    "obj.subs(exact_solution)"
   ]
  },
  {
   "cell_type": "code",
   "execution_count": null,
   "metadata": {},
   "outputs": [],
   "source": [
    "\"\"\"\n",
    "level = 4\n",
    "\n",
    "sdp = SdpRelaxation(list(obj.free_symbols))\n",
    "sdp.get_relaxation(level, objective=obj)\n",
    "sdp.solve(solver='mosek')\n",
    "\n",
    "# extract the values of control\n",
    "if sdp.status == 'optimal':\n",
    "    solution = {var: sdp[var] for var in sdp.variables}\n",
    "else:\n",
    "    solution = None\n",
    "    \n",
    "obj.subs(solution)\n",
    "\"\"\""
   ]
  },
  {
   "cell_type": "markdown",
   "metadata": {},
   "source": [
    "## using Scipy for minimization"
   ]
  },
  {
   "cell_type": "code",
   "execution_count": null,
   "metadata": {},
   "outputs": [],
   "source": [
    "# get the objective function\n",
    "f = re(obj)\n",
    "\n",
    "# list of unknowns\n",
    "x = list(obj.free_symbols)\n",
    "\n",
    "# symbolically get the Jacobian\n",
    "jac = [f.diff(_) for _ in x]\n",
    "\n",
    "f = lambdify(x, f, 'numpy')\n",
    "jac = lambdify(x, jac, 'numpy')\n",
    "\n",
    "# Use the conjugate gradient method in scipy since we have both the Jacobian and Hessian of the objective function\n",
    "scipy_solution = minimize(\n",
    "    lambda _: f(*_),\n",
    "    0.01 * np.random.rand(len(x)),\n",
    "    jac=lambda _: jac(*_),\n",
    ")\n",
    "\n",
    "if scipy_solution.success:\n",
    "    solution = dict(zip(x, scipy_solution.x))\n",
    "    \n",
    "    H_reconstructed = np.array(H.subs(solution), dtype=np.complex)\n",
    "    A_reconstructed = np.array(A.subs(solution), dtype=np.complex)\n",
    "    \n",
    "else:\n",
    "    solution = H_reconstructed = A_reconstructed = None"
   ]
  },
  {
   "cell_type": "code",
   "execution_count": null,
   "metadata": {},
   "outputs": [],
   "source": [
    "A_reconstructed, A_exact"
   ]
  },
  {
   "cell_type": "code",
   "execution_count": null,
   "metadata": {},
   "outputs": [],
   "source": [
    "results_reconstructed = mesolve(\n",
    "    Qobj(H_reconstructed), Qobj(rho[0]), results.times, [Qobj(A_reconstructed)]\n",
    ")\n",
    "\n",
    "plt.title(\"Evolution of purity\")\n",
    "plt.plot(\n",
    "    results.times, \n",
    "    [_.purity() for _ in results_reconstructed.states],\n",
    "    label='reconstructed'\n",
    ")\n",
    "plt.plot(\n",
    "    results.times, \n",
    "    [_.purity() for _ in results.states],\n",
    "    label='exact'\n",
    ")\n",
    "\n",
    "plt.xlabel('$t$')\n",
    "plt.ylabel('Purity')\n",
    "plt.legend()\n",
    "plt.show()\n",
    "\n",
    "plt.title(\"Fidelity between reconstructed and exact dynamics\")\n",
    "plt.plot(\n",
    "    results.times, \n",
    "    [fidelity(rho1, rho2) for rho1, rho2 in zip(results_reconstructed.states, results.states)]\n",
    ")\n",
    "\n",
    "plt.xlabel('$t$')\n",
    "plt.ylabel('Purity')\n",
    "plt.show()"
   ]
  },
  {
   "cell_type": "code",
   "execution_count": null,
   "metadata": {},
   "outputs": [],
   "source": []
  }
 ],
 "metadata": {
  "kernelspec": {
   "display_name": "Python 3",
   "language": "python",
   "name": "python3"
  },
  "language_info": {
   "codemirror_mode": {
    "name": "ipython",
    "version": 3
   },
   "file_extension": ".py",
   "mimetype": "text/x-python",
   "name": "python",
   "nbconvert_exporter": "python",
   "pygments_lexer": "ipython3",
   "version": "3.8.5"
  }
 },
 "nbformat": 4,
 "nbformat_minor": 1
}
