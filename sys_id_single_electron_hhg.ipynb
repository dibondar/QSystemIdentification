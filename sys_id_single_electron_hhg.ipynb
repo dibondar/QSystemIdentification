{
 "cells": [
  {
   "cell_type": "markdown",
   "metadata": {
    "collapsed": true
   },
   "source": [
    "# Performing the bilinear system identification using the split-op propagator\n",
    "\n",
    "The propagation follows [absorbing_boundary.ipynb](https://github.com/dibondar/QuantumClassicalDynamics/blob/master/absorbing_boundary.ipynb)"
   ]
  },
  {
   "cell_type": "code",
   "execution_count": 1,
   "metadata": {},
   "outputs": [],
   "source": [
    "import sys\n",
    "import os\n",
    "sys.path.insert(0, os.path.abspath('') + '/QuantumClassicalDynamics')\n",
    "\n",
    "from QuantumClassicalDynamics.imag_time_propagation import ImgTimePropagation, np, fftpack\n",
    "\n",
    "from numba import njit # compile python\n",
    "from scipy.signal import blackman\n",
    "from scipy.linalg import eigvals\n",
    "import matplotlib.pyplot as plt\n",
    "from matplotlib.colors import LogNorm # enable log color plot\n",
    "\n",
    "from collections import defaultdict"
   ]
  },
  {
   "cell_type": "code",
   "execution_count": 2,
   "metadata": {},
   "outputs": [],
   "source": [
    "from bi_sys_id_quantum import estimate_rank, bi_sys_id_my_version, get_response, get_training_responses"
   ]
  },
  {
   "cell_type": "code",
   "execution_count": 3,
   "metadata": {},
   "outputs": [],
   "source": [
    "# Define parameters of an atom (a single-electron model of Ar) in the external laser field\n",
    "\n",
    "# laser field frequency\n",
    "omega_laser = 0.06\n",
    "\n",
    "# the final time of propagation (= 8 periods of laser oscillations)\n",
    "t_final = 8 * 2. * np.pi / omega_laser\n",
    "\n",
    "# amplitude of the laser field strength\n",
    "F = 0.04\n",
    "\n",
    "# the amplitude of grid\n",
    "x_amplitude = 100.\n",
    "\n",
    "# the time step\n",
    "dt = 0.05\n",
    "\n",
    "@njit\n",
    "def laser(t):\n",
    "    \"\"\"\n",
    "    The strength of the laser field.\n",
    "    Always add an envelop to the laser field to avoid all sorts of artifacts.\n",
    "    We use a sin**2 envelope, which resembles the Blackman filter\n",
    "    \"\"\"\n",
    "    return F * np.sin(omega_laser * t) * np.sin(np.pi * t / t_final) ** 2\n",
    "\n",
    "@njit\n",
    "def v(x, t=0.):\n",
    "    \"\"\"\n",
    "    Potential energy.\n",
    "    \n",
    "    Define the  potential energy as a sum of the soft core Columb potential\n",
    "    and the laser field interaction in the dipole approximation.\n",
    "    \"\"\"\n",
    "    return -1. / np.sqrt(x ** 2 + 1.37) + x * laser(t)\n",
    "\n",
    "@njit\n",
    "def diff_v(x, t=0.):\n",
    "    \"\"\"\n",
    "    the derivative of the potential energy\n",
    "    \"\"\"\n",
    "    return x * (x ** 2 + 1.37) ** (-1.5) + laser(t)\n",
    "\n",
    "@njit\n",
    "def k(p, t=0.):\n",
    "    \"\"\"\n",
    "    Non-relativistic kinetic energy\n",
    "    \"\"\"\n",
    "    return 0.5 * p ** 2\n",
    "                                                \n",
    "@njit\n",
    "def diff_k(p, t=0.):\n",
    "    \"\"\"\n",
    "    the derivative of the kinetic energy for Ehrenfest theorem evaluation\n",
    "    \"\"\"\n",
    "    return p\n",
    "\n",
    "@njit\n",
    "def abs_boundary(x):\n",
    "    \"\"\"\n",
    "    Absorbing boundary similar to the Blackman filter\n",
    "    \"\"\"\n",
    "    return np.sin(0.5 * np.pi * (x + x_amplitude) / x_amplitude) ** (0.05 * dt)\n",
    "\n",
    "\n",
    "sys_params = dict(\n",
    "    dt=dt,\n",
    "    x_grid_dim=1024,\n",
    "    x_amplitude=x_amplitude,\n",
    "    \n",
    "    k=k,\n",
    "    diff_k=diff_k,\n",
    "    v=v,\n",
    "    diff_v=diff_v,\n",
    "    \n",
    "    abs_boundary=abs_boundary,\n",
    ")"
   ]
  },
  {
   "cell_type": "code",
   "execution_count": 4,
   "metadata": {},
   "outputs": [],
   "source": [
    "\n",
    "#########################################################################\n",
    "#\n",
    "#   Define functions for testing and visualizing\n",
    "#\n",
    "#########################################################################\n",
    "\n",
    "\n",
    "def test_propagation(sys, iterations=None):\n",
    "    \"\"\"\n",
    "    Run tests for the specified propagators and plot the probability density\n",
    "    of the time dependent propagation\n",
    "    :param sys: class that propagates\n",
    "    \"\"\"\n",
    "    # Set the ground state wavefunction as the initial condition\n",
    "    sys.get_stationary_states(1)\n",
    "    sys.set_wavefunction(sys.stationary_states[0])\n",
    "\n",
    "    iterations = iterations if iterations else 748\n",
    "    # steps = int(round(t_final / sys.dt / iterations))\n",
    "    steps = 1\n",
    "    \n",
    "    # display the propagator\n",
    "    extent=[sys.x.min(), sys.x.max(), 0., sys.t]\n",
    "    \n",
    "    plt.imshow(\n",
    "        [np.abs(sys.propagate(steps)) ** 2 for _ in range(iterations)],\n",
    "        origin='lower',\n",
    "        norm=LogNorm(vmin=1e-12, vmax=0.1),\n",
    "        #extent=extent,\n",
    "        aspect=50,#aspect=((extent[-1] - extent[-2]) / (extent[1] - extent[0]))\n",
    "        \n",
    "    )\n",
    "    plt.xlabel('coordinate $x$ (a.u.)')\n",
    "    plt.ylabel('time $t$ (a.u.)')\n",
    "    #plt.colorbar()\n",
    "\n",
    "\n",
    "def test_Ehrenfest1(sys):\n",
    "    \"\"\"\n",
    "    Test the first Ehenfest theorem for the specified quantum system\n",
    "    \"\"\"\n",
    "    times = sys.dt * np.arange(len(sys.x_average))\n",
    "\n",
    "    dx_dt = np.gradient(sys.x_average, sys.dt)\n",
    "\n",
    "    print(\"{:.2e}\".format(np.linalg.norm(dx_dt - sys.x_average_rhs)))\n",
    "\n",
    "    plt.plot(times, dx_dt, '-r', label='$d\\\\langle\\\\hat{x}\\\\rangle / dt$')\n",
    "    plt.plot(times, sys.x_average_rhs, '--b', label='$\\\\langle\\\\hat{p}\\\\rangle$')\n",
    "    plt.legend()\n",
    "    plt.ylabel('momentum')\n",
    "    plt.xlabel('time $t$ (a.u.)')\n",
    "\n",
    "\n",
    "def test_Ehrenfest2(sys):\n",
    "    \"\"\"\n",
    "    Test the second Ehenfest theorem for the specified quantum system\n",
    "    \"\"\"\n",
    "    times = sys.dt * np.arange(len(sys.p_average))\n",
    "\n",
    "    dp_dt = np.gradient(sys.p_average, sys.dt)\n",
    "\n",
    "    print(\"{:.2e}\".format(np.linalg.norm(dp_dt - sys.p_average_rhs)))\n",
    "\n",
    "    plt.plot(times, dp_dt, '-r', label='$d\\\\langle\\\\hat{p}\\\\rangle / dt$')\n",
    "    plt.plot(times, sys.p_average_rhs, '--b', label='$\\\\langle -U\\'(\\\\hat{x})\\\\rangle$')\n",
    "    plt.legend()\n",
    "    plt.ylabel('force')\n",
    "    plt.xlabel('time $t$ (a.u.)')"
   ]
  },
  {
   "cell_type": "code",
   "execution_count": 5,
   "metadata": {},
   "outputs": [],
   "source": [
    "\n",
    "#########################################################################\n",
    "#\n",
    "#   Declare the propagators\n",
    "#\n",
    "#########################################################################\n",
    "\n",
    "# sys_no_abs_boundary = ImgTimePropagation(**sys_params)\n",
    "\n",
    "\n",
    "\n",
    "sys_with_abs_boundary = ImgTimePropagation(\n",
    "    **sys_params\n",
    ")\n"
   ]
  },
  {
   "cell_type": "code",
   "execution_count": 6,
   "metadata": {},
   "outputs": [
    {
     "data": {
      "image/png": "[encoded data removed]",
      "text/plain": [
       "<Figure size 432x288 with 1 Axes>"
      ]
     },
     "metadata": {
      "needs_background": "light"
     },
     "output_type": "display_data"
    }
   ],
   "source": [
    "\n",
    "#########################################################################\n",
    "#\n",
    "# Test propagation in the context of High Harmonic Generation\n",
    "#\n",
    "#########################################################################\n",
    "\n",
    "#plt.subplot(121)\n",
    "#plt.title(\"No absorbing boundary, $|\\\\Psi(x, t)|^2$\")\n",
    "#test_propagation(sys_no_abs_boundary)\n",
    "\n",
    "#plt.subplot(122)\n",
    "plt.title(\"Absorbing boundary, $|\\\\Psi(x, t)|^2$\")\n",
    "test_propagation(sys_with_abs_boundary)\n",
    "\n",
    "plt.show()"
   ]
  },
  {
   "cell_type": "code",
   "execution_count": 7,
   "metadata": {},
   "outputs": [
    {
     "name": "stdout",
     "output_type": "stream",
     "text": [
      "\n",
      "With absorbing boundary error in the first Ehrenfest relation: \n",
      "8.23e-06\n"
     ]
    },
    {
     "data": {
      "image/png": "[encoded data removed]",
      "text/plain": [
       "<Figure size 432x288 with 1 Axes>"
      ]
     },
     "metadata": {
      "needs_background": "light"
     },
     "output_type": "display_data"
    },
    {
     "name": "stdout",
     "output_type": "stream",
     "text": [
      "\n",
      "With absorbing boundary error in the second Ehrenfest relation: \n",
      "1.46e-07\n"
     ]
    },
    {
     "data": {
      "image/png": "[encoded data removed]",
      "text/plain": [
       "<Figure size 432x288 with 1 Axes>"
      ]
     },
     "metadata": {
      "needs_background": "light"
     },
     "output_type": "display_data"
    }
   ],
   "source": [
    "#plt.subplot(221)\n",
    "#plt.title(\"No absorbing boundary\")\n",
    "#print(\"\\nNo absorbing boundary error in the first Ehrenfest relation: \")\n",
    "#test_Ehrenfest1(sys_no_abs_boundary)\n",
    "\n",
    "#plt.subplot(222)\n",
    "#plt.title(\"No absorbing boundary\")\n",
    "#print(\"\\nNo absorbing boundary error in the second Ehrenfest relation: \")\n",
    "#test_Ehrenfest2(sys_no_abs_boundary)\n",
    "\n",
    "#plt.subplot(223)\n",
    "plt.title(\"Absorbing boundary\")\n",
    "print(\"\\nWith absorbing boundary error in the first Ehrenfest relation: \")\n",
    "test_Ehrenfest1(sys_with_abs_boundary)\n",
    "\n",
    "plt.show()\n",
    "\n",
    "#plt.subplot(224)\n",
    "plt.title(\"Absorbing boundary\")\n",
    "print(\"\\nWith absorbing boundary error in the second Ehrenfest relation: \")\n",
    "test_Ehrenfest2(sys_with_abs_boundary)\n",
    "\n",
    "plt.show()"
   ]
  },
  {
   "cell_type": "code",
   "execution_count": 8,
   "metadata": {},
   "outputs": [
    {
     "data": {
      "image/png": "[encoded data removed]",
      "text/plain": [
       "<Figure size 432x288 with 1 Axes>"
      ]
     },
     "metadata": {
      "needs_background": "light"
     },
     "output_type": "display_data"
    }
   ],
   "source": [
    "\n",
    "def plot_spectrum(sys):\n",
    "    \"\"\"\n",
    "    Plot the High Harmonic Generation spectrum\n",
    "    \"\"\"\n",
    "    # Power spectrum emitted is calculated using the Larmor formula\n",
    "    #   (https://en.wikipedia.org/wiki/Larmor_formula)\n",
    "    # which says that the power emitted is proportional to the square of the acceleration\n",
    "    # i.e., the RHS of the second Ehrenfest theorem\n",
    "\n",
    "    N = len(sys.p_average_rhs)\n",
    "    k = np.arange(N)\n",
    "\n",
    "    # frequency range\n",
    "    omegas = (k - N / 2) * np.pi / (0.5 * sys.t)\n",
    "\n",
    "    # spectra of the\n",
    "    spectrum = np.abs(\n",
    "        # used windows fourier transform to calculate the spectra\n",
    "        # rhttp://docs.scipy.org/doc/scipy/reference/tutorial/fftpack.html\n",
    "        fftpack.fft((-1) ** k * blackman(N) * sys.p_average_rhs)\n",
    "    ) ** 2\n",
    "    spectrum /= spectrum.max()\n",
    "\n",
    "    plt.semilogy(omegas / omega_laser, spectrum)\n",
    "    plt.ylabel('spectrum (arbitrary units)')\n",
    "    plt.xlabel('frequency / $\\\\omega_L$')\n",
    "    plt.xlim([0, 30.])\n",
    "    plt.ylim([1e-11, 1.])\n",
    "\n",
    "#plt.subplot(121)\n",
    "#plt.title(\"No absorbing boundary High Harmonic Generation Spectrum\")\n",
    "#plot_spectrum(sys_no_abs_boundary)\n",
    "\n",
    "#plt.subplot(122)\n",
    "plt.title(\"With absorbing boundary High Harmonic Generation Spectrum\")\n",
    "plot_spectrum(sys_with_abs_boundary)\n",
    "\n",
    "plt.show()"
   ]
  },
  {
   "cell_type": "markdown",
   "metadata": {},
   "source": [
    "# Generate responces for system identification"
   ]
  },
  {
   "cell_type": "code",
   "execution_count": 9,
   "metadata": {},
   "outputs": [],
   "source": [
    "# Where the results will be saved\n",
    "computed_averages = defaultdict(list)\n",
    "\n",
    "computed_averages['x_average']\n",
    "computed_averages['p_average']\n",
    "computed_averages['k_average']\n",
    "computed_averages['v_average']\n",
    "\n",
    "\n",
    "# system parameters without the potential energy laser field\n",
    "common_sys_params = dict(\n",
    "        dt=dt,\n",
    "        x_grid_dim=1024,\n",
    "        x_amplitude=x_amplitude,\n",
    "\n",
    "        k=k,\n",
    "        diff_k=diff_k,\n",
    "        \n",
    "        abs_boundary=abs_boundary,\n",
    ")\n",
    "\n",
    "# amplitude of the laser field strength\n",
    "F = 0.05\n",
    "\n",
    "@njit\n",
    "def v_pulse_off(x, t=0.):\n",
    "    \"\"\"\n",
    "    Potential energy with field off.\n",
    "    \"\"\"\n",
    "    return -1. / np.sqrt(x ** 2 + 1.37) \n",
    "\n",
    "@njit\n",
    "def diff_v_pulse_off(x, t=0.):\n",
    "    \"\"\"\n",
    "    the derivative of the potential energy\n",
    "    \"\"\"\n",
    "    return x * (x ** 2 + 1.37) ** (-1.5)\n",
    "\n",
    "@njit\n",
    "def v_pulse_on(x, t=0.):\n",
    "    \"\"\"\n",
    "    Potential energy with field on.\n",
    "    \"\"\"\n",
    "    return v_pulse_off(x) + x * F\n",
    "\n",
    "@njit\n",
    "def diff_v_pulse_on(x, t=0.):\n",
    "    \"\"\"\n",
    "    the derivative of the potential energy\n",
    "    \"\"\"\n",
    "    return diff_v_pulse_off(x) + F\n",
    "\n",
    "# get the ground state\n",
    "sys = ImgTimePropagation(\n",
    "    v = v_pulse_off,\n",
    "    **common_sys_params\n",
    ")\n",
    "sys.get_stationary_states(1)\n",
    "ground_state = sys.stationary_states[0]\n",
    "\n",
    "\n",
    "control_off_tsteps = 1000\n",
    "\n",
    "for control_on_tsteps in range(1, 100):\n",
    "    \n",
    "    # propagate with field on\n",
    "    sys = ImgTimePropagation(\n",
    "        v = v_pulse_on,\n",
    "        diff_v = diff_v_pulse_on,\n",
    "        **common_sys_params\n",
    "    ).set_wavefunction(ground_state)\n",
    "    \n",
    "    # save the initial point\n",
    "    sys.get_ehrenfest()\n",
    "    \n",
    "    displaced_state = sys.propagate(control_on_tsteps)\n",
    "    \n",
    "    for key, val in computed_averages.items():\n",
    "        val.append(getattr(sys, key))\n",
    "    \n",
    "    # propagate with field off\n",
    "    sys = ImgTimePropagation(\n",
    "        v = v_pulse_off,\n",
    "        diff_v = diff_v_pulse_off,\n",
    "        **common_sys_params\n",
    "    ).set_wavefunction(displaced_state)\n",
    "\n",
    "    sys.propagate(control_off_tsteps - control_on_tsteps - 1)\n",
    "    \n",
    "    # save the output with the fild on and off    \n",
    "    for key, val in computed_averages.items():\n",
    "        val[-1] += getattr(sys, key)"
   ]
  },
  {
   "cell_type": "code",
   "execution_count": 11,
   "metadata": {},
   "outputs": [],
   "source": [
    "computed_averages = {key:np.array(val) for key, val in computed_averages.items()}"
   ]
  },
  {
   "cell_type": "code",
   "execution_count": 14,
   "metadata": {},
   "outputs": [],
   "source": [
    "# Where the results will be saved\n",
    "x_orign_response = []\n",
    "\n",
    "\n",
    "# system parameters without the potential energy laser field\n",
    "common_sys_params = dict(\n",
    "        dt=dt,\n",
    "        x_grid_dim=1024,\n",
    "        x_amplitude=x_amplitude,\n",
    "\n",
    "        k=k,\n",
    "        diff_k=diff_k,\n",
    "        \n",
    "        abs_boundary=abs_boundary,\n",
    ")\n",
    "\n",
    "# amplitude of the laser field strength\n",
    "F = 0.05\n",
    "\n",
    "@njit\n",
    "def v_pulse_off(x, t=0.):\n",
    "    \"\"\"\n",
    "    Potential energy with field off.\n",
    "    \"\"\"\n",
    "    return -1. / np.sqrt(x ** 2 + 1.37) \n",
    "\n",
    "@njit\n",
    "def diff_v_pulse_off(x, t=0.):\n",
    "    \"\"\"\n",
    "    the derivative of the potential energy\n",
    "    \"\"\"\n",
    "    return x * (x ** 2 + 1.37) ** (-1.5)\n",
    "\n",
    "@njit\n",
    "def v_pulse_on(x, t=0.):\n",
    "    \"\"\"\n",
    "    Potential energy with field on.\n",
    "    \"\"\"\n",
    "    return v_pulse_off(x) + x * F\n",
    "\n",
    "@njit\n",
    "def diff_v_pulse_on(x, t=0.):\n",
    "    \"\"\"\n",
    "    the derivative of the potential energy\n",
    "    \"\"\"\n",
    "    return diff_v_pulse_off(x) + F\n",
    "\n",
    "# get the ground state\n",
    "sys = ImgTimePropagation(\n",
    "    v = v_pulse_off,\n",
    "    **common_sys_params\n",
    ")\n",
    "sys.get_stationary_states(1)\n",
    "ground_state = sys.stationary_states[0]\n",
    "\n",
    "\n",
    "control_off_tsteps = 1000\n",
    "\n",
    "for control_on_tsteps in range(1, 100):\n",
    "    \n",
    "    # propagate with field on\n",
    "    sys = ImgTimePropagation(\n",
    "        v = v_pulse_on,\n",
    "        diff_v = diff_v_pulse_on,\n",
    "        **common_sys_params\n",
    "    ).set_wavefunction(ground_state)\n",
    "    \n",
    "    # save the initial point\n",
    "    sys.get_ehrenfest()\n",
    "    \n",
    "    displaced_state = sys.propagate(control_on_tsteps)\n",
    "    \n",
    "    res = sys.x_average\n",
    "    \n",
    "    # propagate with field off\n",
    "    sys = ImgTimePropagation(\n",
    "        v = v_pulse_off,\n",
    "        diff_v = diff_v_pulse_off,\n",
    "        **common_sys_params\n",
    "    ).set_wavefunction(displaced_state)\n",
    "\n",
    "    sys.propagate(control_off_tsteps - control_on_tsteps - 1)\n",
    "    \n",
    "    # save the output with the fild on and off    \n",
    "    x_orign_response.append(\n",
    "        res + sys.x_average\n",
    "    )\n",
    "\n",
    "x_orign_response = np.array(x_orign_response)"
   ]
  },
  {
   "cell_type": "code",
   "execution_count": null,
   "metadata": {},
   "outputs": [],
   "source": [
    "orig_responces = computed_averages['p_average'] # + 0.05 * computed_averages['k_average']"
   ]
  },
  {
   "cell_type": "code",
   "execution_count": null,
   "metadata": {},
   "outputs": [],
   "source": [
    "# times of propagation\n",
    "times = dt * np.arange(orig_responces.shape[1])"
   ]
  },
  {
   "cell_type": "code",
   "execution_count": null,
   "metadata": {},
   "outputs": [],
   "source": [
    "rank, sigma = estimate_rank(orig_responces, alpha=int(orig_responces.shape[1] / 2))\n",
    "\n",
    "plt.semilogy(sigma, '*-')\n",
    "plt.xlim([0, 20])"
   ]
  },
  {
   "cell_type": "code",
   "execution_count": null,
   "metadata": {},
   "outputs": [],
   "source": []
  },
  {
   "cell_type": "code",
   "execution_count": null,
   "metadata": {},
   "outputs": [],
   "source": []
  },
  {
   "cell_type": "code",
   "execution_count": null,
   "metadata": {},
   "outputs": [],
   "source": [
    "reconstructed = bi_sys_id_my_version(\n",
    "    orig_responces,\n",
    "    alpha = int(orig_responces.shape[1] / 2),\n",
    "    dt = dt,\n",
    "    v = [F],\n",
    "    #rank = 4\n",
    ")"
   ]
  },
  {
   "cell_type": "code",
   "execution_count": null,
   "metadata": {},
   "outputs": [],
   "source": [
    "reconstructed_responses = get_training_responses(reconstructed, times=times, p=orig_responces.shape[0], u=F)"
   ]
  },
  {
   "cell_type": "code",
   "execution_count": null,
   "metadata": {},
   "outputs": [],
   "source": [
    "plt.title(\"$y^{(N)}(t)$ Input/Original Responses\")\n",
    "plt.plot(orig_responces.T)\n",
    "plt.xlabel(\"Time in units of $\\Delta t$\")\n",
    "plt.ylabel(\"$\\\\langle P \\\\rangle$ \\t(a.u.)\")\n",
    "plt.savefig('input.pdf')\n",
    "plt.show()\n",
    "\n",
    "\n",
    "plt.title(\"Reconstructed responses\")\n",
    "plt.plot(reconstructed_responses.T)\n",
    "plt.xlabel(\"Time in units of $\\Delta t$\")\n",
    "plt.ylabel(\"$\\\\langle P \\\\rangle$ \\t(a.u.)\")\n",
    "plt.savefig('reproduction.pdf')\n",
    "plt.show()"
   ]
  },
  {
   "cell_type": "code",
   "execution_count": null,
   "metadata": {},
   "outputs": [],
   "source": [
    "plt.plot(orig_responces.T, 'b')\n",
    "plt.plot(orig_responces.T - reconstructed_responses.T, 'r')\n",
    "#plt.xlim([0, 100])\n",
    "plt.show()"
   ]
  },
  {
   "cell_type": "code",
   "execution_count": null,
   "metadata": {},
   "outputs": [],
   "source": [
    "np.abs(orig_responces - reconstructed_responses).max()"
   ]
  },
  {
   "cell_type": "code",
   "execution_count": null,
   "metadata": {},
   "outputs": [],
   "source": [
    "eigvals(reconstructed.Ac)"
   ]
  },
  {
   "cell_type": "raw",
   "metadata": {},
   "source": [
    "array([ 2.15965005e-05+0.j        , -3.93593844e-04+0.3321672j ,\n",
    "       -3.93593844e-04-0.3321672j , -5.01797076e-02+0.48698881j,\n",
    "       -5.01797076e-02-0.48698881j])"
   ]
  },
  {
   "cell_type": "code",
   "execution_count": null,
   "metadata": {},
   "outputs": [],
   "source": [
    "eigvals(reconstructed.Nc[0])"
   ]
  },
  {
   "cell_type": "raw",
   "metadata": {},
   "source": [
    "array([-33.631672  +0.j        ,  -1.85166081+0.j        ,\n",
    "         1.35068363+0.j        ,   0.12506064+2.33371652j,\n",
    "         0.12506064-2.33371652j])"
   ]
  },
  {
   "cell_type": "code",
   "execution_count": null,
   "metadata": {},
   "outputs": [],
   "source": [
    "\n",
    "check_pulse = njit(lambda t: 0.01 * F * np.sin(0.06 * t))"
   ]
  },
  {
   "cell_type": "code",
   "execution_count": null,
   "metadata": {},
   "outputs": [],
   "source": [
    "response = get_response(reconstructed, check_pulse, times)"
   ]
  },
  {
   "cell_type": "code",
   "execution_count": null,
   "metadata": {},
   "outputs": [],
   "source": [
    "plt.plot(response, label='response predicted')\n",
    "#plt.plot(check_pulse(times), label='field')\n",
    "#plt.ylim([-0.1, 0.1])\n",
    "#plt.xlim([0, 20])\n",
    "plt.legend()\n",
    "plt.show()"
   ]
  },
  {
   "cell_type": "code",
   "execution_count": null,
   "metadata": {},
   "outputs": [],
   "source": [
    "sys = ImgTimePropagation(\n",
    "    v = njit(\n",
    "        lambda x, t: v_pulse_off(x) + x * check_pulse(t)\n",
    "    ),\n",
    "    diff_v = njit(\n",
    "        lambda x, t: diff_v_pulse_off(x) + check_pulse(t)\n",
    "    ),\n",
    "    **common_sys_params\n",
    ").set_wavefunction(ground_state)\n",
    "\n",
    "sys.propagate(times.size)"
   ]
  },
  {
   "cell_type": "code",
   "execution_count": null,
   "metadata": {},
   "outputs": [],
   "source": [
    "plt.plot(response.real - response.real[0], label='response predicted')\n",
    "plt.plot(np.array(sys.p_average) + 0 * 0.05 * np.array(sys.k_average), label='actual response')\n",
    "plt.legend()\n",
    "plt.show()"
   ]
  },
  {
   "cell_type": "code",
   "execution_count": null,
   "metadata": {},
   "outputs": [],
   "source": [
    "plt.plot(times, check_pulse(times))"
   ]
  },
  {
   "cell_type": "code",
   "execution_count": null,
   "metadata": {},
   "outputs": [],
   "source": []
  },
  {
   "cell_type": "code",
   "execution_count": null,
   "metadata": {},
   "outputs": [],
   "source": []
  },
  {
   "cell_type": "code",
   "execution_count": null,
   "metadata": {},
   "outputs": [],
   "source": []
  }
 ],
 "metadata": {
  "kernelspec": {
   "display_name": "Python 3",
   "language": "python",
   "name": "python3"
  },
  "language_info": {
   "codemirror_mode": {
    "name": "ipython",
    "version": 3
   },
   "file_extension": ".py",
   "mimetype": "text/x-python",
   "name": "python",
   "nbconvert_exporter": "python",
   "pygments_lexer": "ipython3",
   "version": "3.7.6"
  }
 },
 "nbformat": 4,
 "nbformat_minor": 1
}
