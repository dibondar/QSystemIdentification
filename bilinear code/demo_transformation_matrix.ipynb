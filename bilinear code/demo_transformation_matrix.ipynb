{
 "cells": [
  {
   "cell_type": "markdown",
   "metadata": {
    "collapsed": true
   },
   "source": [
    "# Finding transformation between two equivlanet models "
   ]
  },
  {
   "cell_type": "code",
   "execution_count": 8,
   "metadata": {},
   "outputs": [],
   "source": [
    "from  bi_sys_id_quantum import *"
   ]
  },
  {
   "cell_type": "code",
   "execution_count": 12,
   "metadata": {},
   "outputs": [],
   "source": [
    "# generate random model\n",
    "model1 = Reconstructed(\n",
    "    Ac = np.random.rand(3, 3),\n",
    "    Nc = [np.random.rand(3, 3)],\n",
    "    x0 = np.random.rand(3, 1),\n",
    "    C = np.random.rand(1, 3),\n",
    ")"
   ]
  },
  {
   "cell_type": "code",
   "execution_count": 14,
   "metadata": {},
   "outputs": [],
   "source": [
    "# To get an equivalent model, we use Eq. (57) form Juang - 2005 - Continuous-Time Bilinear System Identificatio \n",
    "\n",
    "phi = np.random.rand(3, 3)\n",
    "inv_phi = np.linalg.inv(phi)\n",
    "\n",
    "model2 = Reconstructed(\n",
    "    Ac = inv_phi @ model1.Ac @ phi,\n",
    "    Nc = [inv_phi @ Nc @ phi for Nc in model1.Nc],\n",
    "    x0 = inv_phi @ model1.x0,\n",
    "    C = model1.C @ phi,\n",
    ")"
   ]
  },
  {
   "cell_type": "code",
   "execution_count": 15,
   "metadata": {},
   "outputs": [],
   "source": [
    "recovered_phi = get_coordinate_transformation(model1, model2, 100)"
   ]
  },
  {
   "cell_type": "code",
   "execution_count": 18,
   "metadata": {},
   "outputs": [
    {
     "name": "stdout",
     "output_type": "stream",
     "text": [
      "compare the recoverd transformation matrix with the exact \n"
     ]
    },
    {
     "data": {
      "text/plain": [
       "2.701473087385331e-05"
      ]
     },
     "execution_count": 18,
     "metadata": {},
     "output_type": "execute_result"
    }
   ],
   "source": [
    "print(\"compare the recoverd transformation matrix with the exact \")\n",
    "np.abs(recovered_phi - phi).max()"
   ]
  },
  {
   "cell_type": "code",
   "execution_count": null,
   "metadata": {},
   "outputs": [],
   "source": []
  }
 ],
 "metadata": {
  "kernelspec": {
   "display_name": "Python 3",
   "language": "python",
   "name": "python3"
  },
  "language_info": {
   "codemirror_mode": {
    "name": "ipython",
    "version": 3
   },
   "file_extension": ".py",
   "mimetype": "text/x-python",
   "name": "python",
   "nbconvert_exporter": "python",
   "pygments_lexer": "ipython3",
   "version": "3.7.6"
  }
 },
 "nbformat": 4,
 "nbformat_minor": 1
}
