{
 "cells": [
  {
   "cell_type": "markdown",
   "metadata": {
    "collapsed": true
   },
   "source": [
    "# Performing the bilinear system identification using the split-op propagator\n",
    "\n",
    "The propagation follows [absorbing_boundary.ipynb](https://github.com/dibondar/QuantumClassicalDynamics/blob/master/absorbing_boundary.ipynb)"
   ]
  },
  {
   "cell_type": "code",
   "execution_count": 1,
   "metadata": {},
   "outputs": [],
   "source": [
    "import sys\n",
    "import os\n",
    "sys.path.insert(0, os.path.abspath('') + '/QuantumClassicalDynamics')\n",
    "\n",
    "from QuantumClassicalDynamics.imag_time_propagation import ImgTimePropagation, np, fftpack\n",
    "\n",
    "from numba import njit # compile python\n",
    "from scipy.signal import blackman\n",
    "from scipy.linalg import eigvals\n",
    "import matplotlib.pyplot as plt\n",
    "from matplotlib.colors import LogNorm # enable log color plot\n",
    "\n",
    "from collections import defaultdict"
   ]
  },
  {
   "cell_type": "code",
   "execution_count": 2,
   "metadata": {},
   "outputs": [],
   "source": [
    "from bi_sys_id_quantum import estimate_rank, bi_sys_id_my_version, get_response, get_training_responses"
   ]
  },
  {
   "cell_type": "code",
   "execution_count": 3,
   "metadata": {},
   "outputs": [],
   "source": [
    "# Define parameters of an atom (a single-electron model of Ar) in the external laser field\n",
    "\n",
    "# laser field frequency\n",
    "omega_laser = 0.06\n",
    "\n",
    "# the final time of propagation (= 8 periods of laser oscillations)\n",
    "t_final = 8 * 2. * np.pi / omega_laser\n",
    "\n",
    "# amplitude of the laser field strength\n",
    "F = 0.04\n",
    "\n",
    "# the amplitude of grid\n",
    "x_amplitude = 100.\n",
    "\n",
    "# the time step\n",
    "dt = 0.05\n",
    "\n",
    "@njit\n",
    "def laser(t):\n",
    "    \"\"\"\n",
    "    The strength of the laser field.\n",
    "    Always add an envelop to the laser field to avoid all sorts of artifacts.\n",
    "    We use a sin**2 envelope, which resembles the Blackman filter\n",
    "    \"\"\"\n",
    "    return F * np.sin(omega_laser * t) * np.sin(np.pi * t / t_final) ** 2\n",
    "\n",
    "@njit\n",
    "def v(x, t=0.):\n",
    "    \"\"\"\n",
    "    Potential energy.\n",
    "    \n",
    "    Define the  potential energy as a sum of the soft core Columb potential\n",
    "    and the laser field interaction in the dipole approximation.\n",
    "    \"\"\"\n",
    "    return -1. / np.sqrt(x ** 2 + 1.37) + x * laser(t)\n",
    "\n",
    "@njit\n",
    "def diff_v(x, t=0.):\n",
    "    \"\"\"\n",
    "    the derivative of the potential energy\n",
    "    \"\"\"\n",
    "    return x * (x ** 2 + 1.37) ** (-1.5) + laser(t)\n",
    "\n",
    "@njit\n",
    "def k(p, t=0.):\n",
    "    \"\"\"\n",
    "    Non-relativistic kinetic energy\n",
    "    \"\"\"\n",
    "    return 0.5 * p ** 2\n",
    "                                                \n",
    "@njit\n",
    "def diff_k(p, t=0.):\n",
    "    \"\"\"\n",
    "    the derivative of the kinetic energy for Ehrenfest theorem evaluation\n",
    "    \"\"\"\n",
    "    return p\n",
    "\n",
    "@njit\n",
    "def abs_boundary(x):\n",
    "    \"\"\"\n",
    "    Absorbing boundary similar to the Blackman filter\n",
    "    \"\"\"\n",
    "    return np.sin(0.5 * np.pi * (x + x_amplitude) / x_amplitude) ** (0.05 * dt)\n",
    "\n",
    "\n",
    "sys_params = dict(\n",
    "    dt=dt,\n",
    "    x_grid_dim=1024,\n",
    "    x_amplitude=x_amplitude,\n",
    "    \n",
    "    k=k,\n",
    "    diff_k=diff_k,\n",
    "    v=v,\n",
    "    diff_v=diff_v,\n",
    "    \n",
    "    abs_boundary=abs_boundary,\n",
    ")"
   ]
  },
  {
   "cell_type": "code",
   "execution_count": 4,
   "metadata": {},
   "outputs": [],
   "source": [
    "\n",
    "#########################################################################\n",
    "#\n",
    "#   Declare the propagators\n",
    "#\n",
    "#########################################################################\n",
    "\n",
    "# sys_no_abs_boundary = ImgTimePropagation(**sys_params)\n",
    "\n",
    "\n",
    "\n",
    "sys_with_abs_boundary = ImgTimePropagation(\n",
    "    **sys_params\n",
    ")\n"
   ]
  },
  {
   "cell_type": "markdown",
   "metadata": {},
   "source": [
    "# Generate responces for system identification"
   ]
  },
  {
   "cell_type": "code",
   "execution_count": 5,
   "metadata": {},
   "outputs": [],
   "source": [
    "# Where the results will be saved\n",
    "computed_averages = defaultdict(list)\n",
    "\n",
    "# which observables to save\n",
    "computed_averages['x_average']\n",
    "computed_averages['p_average']\n",
    "computed_averages['k_average']\n",
    "computed_averages['v_average']\n",
    "computed_averages['x_average_rhs']\n",
    "computed_averages['p_average_rhs']\n",
    "\n",
    "\n",
    "# system parameters without the potential energy laser field\n",
    "common_sys_params = dict(\n",
    "        dt=dt,\n",
    "        x_grid_dim=1024,\n",
    "        x_amplitude=x_amplitude,\n",
    "\n",
    "        k=k,\n",
    "        diff_k=diff_k,\n",
    "        \n",
    "        abs_boundary=abs_boundary,\n",
    ")\n",
    "\n",
    "# amplitude of the laser field strength\n",
    "F = 0.05\n",
    "\n",
    "@njit\n",
    "def v_pulse_off(x, t=0.):\n",
    "    \"\"\"\n",
    "    Potential energy with field off.\n",
    "    \"\"\"\n",
    "    return -1. / np.sqrt(x ** 2 + 1.37) \n",
    "\n",
    "@njit\n",
    "def diff_v_pulse_off(x, t=0.):\n",
    "    \"\"\"\n",
    "    the derivative of the potential energy\n",
    "    \"\"\"\n",
    "    return x * (x ** 2 + 1.37) ** (-1.5)\n",
    "\n",
    "@njit\n",
    "def v_pulse_on(x, t=0.):\n",
    "    \"\"\"\n",
    "    Potential energy with field on.\n",
    "    \"\"\"\n",
    "    return v_pulse_off(x) + x * F\n",
    "\n",
    "@njit\n",
    "def diff_v_pulse_on(x, t=0.):\n",
    "    \"\"\"\n",
    "    the derivative of the potential energy\n",
    "    \"\"\"\n",
    "    return diff_v_pulse_off(x) + F\n",
    "\n",
    "# get the ground state\n",
    "sys = ImgTimePropagation(\n",
    "    v = v_pulse_off,\n",
    "    **common_sys_params\n",
    ")\n",
    "sys.get_stationary_states(1)\n",
    "ground_state = sys.stationary_states[0]\n",
    "\n",
    "\n",
    "control_off_tsteps = 1000\n",
    "\n",
    "for control_on_tsteps in range(1, 100):\n",
    "    \n",
    "    # propagate with field on\n",
    "    sys = ImgTimePropagation(\n",
    "        v = v_pulse_on,\n",
    "        diff_v = diff_v_pulse_on,\n",
    "        **common_sys_params\n",
    "    ).set_wavefunction(ground_state)\n",
    "    \n",
    "    # save the initial point\n",
    "    sys.get_ehrenfest()\n",
    "    \n",
    "    displaced_state = sys.propagate(control_on_tsteps)\n",
    "    \n",
    "    for key, val in computed_averages.items():\n",
    "        val.append(getattr(sys, key))\n",
    "    \n",
    "    # propagate with field off\n",
    "    sys = ImgTimePropagation(\n",
    "        v = v_pulse_off,\n",
    "        diff_v = diff_v_pulse_off,\n",
    "        **common_sys_params\n",
    "    ).set_wavefunction(displaced_state)\n",
    "\n",
    "    sys.propagate(control_off_tsteps - control_on_tsteps - 1)\n",
    "    \n",
    "    # save the output with the fild on and off    \n",
    "    for key, val in computed_averages.items():\n",
    "        val[-1] += getattr(sys, key)"
   ]
  },
  {
   "cell_type": "code",
   "execution_count": 6,
   "metadata": {},
   "outputs": [],
   "source": [
    "computed_averages = {key:np.array(val) for key, val in computed_averages.items()}"
   ]
  },
  {
   "cell_type": "code",
   "execution_count": 7,
   "metadata": {},
   "outputs": [
    {
     "data": {
      "text/plain": [
       "dict_keys(['x_average', 'p_average', 'k_average', 'v_average', 'x_average_rhs', 'p_average_rhs'])"
      ]
     },
     "execution_count": 7,
     "metadata": {},
     "output_type": "execute_result"
    }
   ],
   "source": [
    "computed_averages.keys()"
   ]
  },
  {
   "cell_type": "code",
   "execution_count": null,
   "metadata": {},
   "outputs": [],
   "source": []
  },
  {
   "cell_type": "code",
   "execution_count": 72,
   "metadata": {},
   "outputs": [],
   "source": [
    "#orig_responces = np.array(list(zip(*computed_averages.values())))\n",
    "orig_responces = np.array(list(zip(*[\n",
    "    computed_averages['x_average'], computed_averages['p_average'], computed_averages['k_average']\n",
    "    # computed_averages['k_average'], computed_averages['v_average']\n",
    "])))\n",
    "\n",
    "# times of propagation\n",
    "times = dt * np.arange(orig_responces.shape[-1])"
   ]
  },
  {
   "cell_type": "code",
   "execution_count": 73,
   "metadata": {},
   "outputs": [],
   "source": [
    "p, m, _ = orig_responces.shape"
   ]
  },
  {
   "cell_type": "code",
   "execution_count": 74,
   "metadata": {},
   "outputs": [],
   "source": [
    "orig_responces_ = orig_responces.reshape((p, 1, m, -1))"
   ]
  },
  {
   "cell_type": "code",
   "execution_count": 103,
   "metadata": {},
   "outputs": [],
   "source": [
    "# perfomr the system identification\n",
    "reconstructed = bi_sys_id_my_version(\n",
    "    orig_responces_,\n",
    "    alpha = int(orig_responces_.shape[-1] / 2),\n",
    "    dt = dt,\n",
    "    v = [F],\n",
    ")"
   ]
  },
  {
   "cell_type": "code",
   "execution_count": 104,
   "metadata": {},
   "outputs": [],
   "source": [
    "reconstructed_responses = get_training_responses(reconstructed, times=times, p=p, u=F)"
   ]
  },
  {
   "cell_type": "code",
   "execution_count": null,
   "metadata": {},
   "outputs": [],
   "source": []
  },
  {
   "cell_type": "code",
   "execution_count": 105,
   "metadata": {},
   "outputs": [
    {
     "data": {
      "text/plain": [
       "'\\nplt.title(\"$y^{(N)}(t)$ Input/Original Responses\")\\nplt.plot(orig_responces.T)\\nplt.xlabel(\"Time in units of $\\\\Delta t$\")\\nplt.ylabel(\"$\\\\langle P \\\\rangle$ \\t(a.u.)\")\\nplt.savefig(\\'input.pdf\\')\\nplt.show()\\n\\n\\nplt.title(\"Reconstructed responses\")\\nplt.plot(reconstructed_responses.T)\\nplt.xlabel(\"Time in units of $\\\\Delta t$\")\\nplt.ylabel(\"$\\\\langle P \\\\rangle$ \\t(a.u.)\")\\nplt.savefig(\\'reproduction.pdf\\')\\nplt.show()\\n'"
      ]
     },
     "execution_count": 105,
     "metadata": {},
     "output_type": "execute_result"
    }
   ],
   "source": [
    "\"\"\"\n",
    "plt.title(\"$y^{(N)}(t)$ Input/Original Responses\")\n",
    "plt.plot(orig_responces.T)\n",
    "plt.xlabel(\"Time in units of $\\Delta t$\")\n",
    "plt.ylabel(\"$\\\\langle P \\\\rangle$ \\t(a.u.)\")\n",
    "plt.savefig('input.pdf')\n",
    "plt.show()\n",
    "\n",
    "\n",
    "plt.title(\"Reconstructed responses\")\n",
    "plt.plot(reconstructed_responses.T)\n",
    "plt.xlabel(\"Time in units of $\\Delta t$\")\n",
    "plt.ylabel(\"$\\\\langle P \\\\rangle$ \\t(a.u.)\")\n",
    "plt.savefig('reproduction.pdf')\n",
    "plt.show()\n",
    "\"\"\""
   ]
  },
  {
   "cell_type": "code",
   "execution_count": 106,
   "metadata": {},
   "outputs": [
    {
     "data": {
      "image/png": "[encoded data removed]",
      "text/plain": [
       "<Figure size 432x288 with 1 Axes>"
      ]
     },
     "metadata": {
      "needs_background": "light"
     },
     "output_type": "display_data"
    }
   ],
   "source": [
    "plt.plot(orig_responces.reshape(-1), 'b')\n",
    "plt.plot(orig_responces.reshape(-1) - reconstructed_responses.reshape(-1), 'r')\n",
    "#plt.xlim([0, 100])\n",
    "plt.show()"
   ]
  },
  {
   "cell_type": "code",
   "execution_count": 107,
   "metadata": {},
   "outputs": [
    {
     "name": "stdout",
     "output_type": "stream",
     "text": [
      "error: \n"
     ]
    },
    {
     "data": {
      "text/plain": [
       "0.15200433650614775"
      ]
     },
     "execution_count": 107,
     "metadata": {},
     "output_type": "execute_result"
    }
   ],
   "source": [
    "print(\"error: \")\n",
    "np.abs(orig_responces.reshape(-1) - reconstructed_responses.reshape(-1)).max()"
   ]
  },
  {
   "cell_type": "code",
   "execution_count": 108,
   "metadata": {},
   "outputs": [
    {
     "data": {
      "text/plain": [
       "array([-1.21472173e-07+0.j        ,  1.03219371e-03+0.33058798j,\n",
       "        1.03219371e-03-0.33058798j])"
      ]
     },
     "execution_count": 108,
     "metadata": {},
     "output_type": "execute_result"
    }
   ],
   "source": [
    "eigvals(reconstructed.Ac)"
   ]
  },
  {
   "cell_type": "code",
   "execution_count": 109,
   "metadata": {},
   "outputs": [
    {
     "data": {
      "text/plain": [
       "array([ 0.35696653+0.j, -1.45156307+0.j, -0.83542442+0.j])"
      ]
     },
     "execution_count": 109,
     "metadata": {},
     "output_type": "execute_result"
    }
   ],
   "source": [
    "eigvals(reconstructed.Nc[0])"
   ]
  },
  {
   "cell_type": "code",
   "execution_count": 110,
   "metadata": {},
   "outputs": [
    {
     "data": {
      "text/plain": [
       "dict_keys(['x_average', 'p_average', 'k_average', 'v_average', 'x_average_rhs', 'p_average_rhs'])"
      ]
     },
     "execution_count": 110,
     "metadata": {},
     "output_type": "execute_result"
    }
   ],
   "source": [
    "computed_averages.keys()"
   ]
  },
  {
   "cell_type": "code",
   "execution_count": 111,
   "metadata": {},
   "outputs": [],
   "source": [
    "check_pulse = njit(lambda t: 0.5 * F * np.sin(0.06 * t))"
   ]
  },
  {
   "cell_type": "code",
   "execution_count": 112,
   "metadata": {},
   "outputs": [],
   "source": [
    "response = get_response(reconstructed, check_pulse, times)"
   ]
  },
  {
   "cell_type": "code",
   "execution_count": 113,
   "metadata": {},
   "outputs": [
    {
     "data": {
      "image/png": "[encoded data removed]",
      "text/plain": [
       "<Figure size 432x288 with 1 Axes>"
      ]
     },
     "metadata": {
      "needs_background": "light"
     },
     "output_type": "display_data"
    }
   ],
   "source": [
    "plt.plot(response[0], label='response predicted')\n",
    "#plt.plot(check_pulse(times), label='field')\n",
    "#plt.ylim([-0.1, 0.1])\n",
    "#plt.xlim([0, 20])\n",
    "plt.legend()\n",
    "plt.show()"
   ]
  },
  {
   "cell_type": "code",
   "execution_count": 114,
   "metadata": {},
   "outputs": [
    {
     "data": {
      "text/plain": [
       "array([ 0.00000000e+00+0.00000000e+00j, -4.31345155e-09-8.22853397e-08j,\n",
       "       -2.11844581e-07-6.61491148e-08j, ...,\n",
       "        7.62090935e-08-7.81100172e-08j,  2.94293493e-08-4.16864609e-08j,\n",
       "        1.31887329e-07-6.26488133e-08j])"
      ]
     },
     "execution_count": 114,
     "metadata": {},
     "output_type": "execute_result"
    }
   ],
   "source": [
    "sys = ImgTimePropagation(\n",
    "    v = njit(\n",
    "        lambda x, t: v_pulse_off(x) + x * check_pulse(t)\n",
    "    ),\n",
    "    diff_v = njit(\n",
    "        lambda x, t: diff_v_pulse_off(x) + check_pulse(t)\n",
    "    ),\n",
    "    **common_sys_params\n",
    ").set_wavefunction(ground_state)\n",
    "\n",
    "sys.propagate(times.size)"
   ]
  },
  {
   "cell_type": "code",
   "execution_count": 116,
   "metadata": {},
   "outputs": [
    {
     "data": {
      "image/png": "[encoded data removed]",
      "text/plain": [
       "<Figure size 432x288 with 1 Axes>"
      ]
     },
     "metadata": {
      "needs_background": "light"
     },
     "output_type": "display_data"
    }
   ],
   "source": [
    "plt.plot(response[1], label='response predicted')\n",
    "plt.plot(np.array(sys.p_average), label='actual response')\n",
    "plt.legend()\n",
    "plt.show()"
   ]
  },
  {
   "cell_type": "code",
   "execution_count": null,
   "metadata": {},
   "outputs": [],
   "source": []
  },
  {
   "cell_type": "code",
   "execution_count": null,
   "metadata": {},
   "outputs": [],
   "source": []
  },
  {
   "cell_type": "code",
   "execution_count": null,
   "metadata": {},
   "outputs": [],
   "source": []
  }
 ],
 "metadata": {
  "kernelspec": {
   "display_name": "Python 3",
   "language": "python",
   "name": "python3"
  },
  "language_info": {
   "codemirror_mode": {
    "name": "ipython",
    "version": 3
   },
   "file_extension": ".py",
   "mimetype": "text/x-python",
   "name": "python",
   "nbconvert_exporter": "python",
   "pygments_lexer": "ipython3",
   "version": "3.7.6"
  }
 },
 "nbformat": 4,
 "nbformat_minor": 1
}
