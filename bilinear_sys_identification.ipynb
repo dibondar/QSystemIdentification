{
 "cells": [
  {
   "cell_type": "markdown",
   "metadata": {
    "collapsed": true
   },
   "source": [
    "# Bilinear system identification "
   ]
  },
  {
   "cell_type": "code",
   "execution_count": null,
   "metadata": {},
   "outputs": [],
   "source": []
  },
  {
   "cell_type": "code",
   "execution_count": 1,
   "metadata": {},
   "outputs": [],
   "source": [
    "import numpy as np\n",
    "from scipy.integrate import odeint\n",
    "from scipy.linalg import svd\n",
    "import matplotlib.pyplot as plt\n",
    "from scipy.linalg import logm"
   ]
  },
  {
   "cell_type": "code",
   "execution_count": 2,
   "metadata": {},
   "outputs": [],
   "source": [
    "# Magnitudes of the controls\n",
    "v1 = 1.\n",
    "v2 = 0.5\n",
    "# time step for measurements\n",
    "dt = 1."
   ]
  },
  {
   "cell_type": "code",
   "execution_count": 3,
   "metadata": {},
   "outputs": [],
   "source": [
    "def response(*, Ac, Bc, Nc1, Nc2, C):\n",
    "    \n",
    "    def rhs_eq(x, t, u1, u2):\n",
    "        \"\"\"\n",
    "        the rhs of the equation of motion\n",
    "        \"\"\"\n",
    "        return (Ac + Nc1 * u1 + Nc2 * u2) @ x + Bc @ (u1, u2)\n",
    "    \n",
    "    time = dt * np.arange(20)\n",
    "        \n",
    "    # save response when only u1 is on\n",
    "    responces_1 = []\n",
    "        \n",
    "    # save response when only u2 is on\n",
    "    responces_2 = [] \n",
    "        \n",
    "    for n in range(2, 7):\n",
    "        # response when only u1 is on\n",
    "        y_on = odeint(rhs_eq, np.zeros(2), time[:n], args=(v1, 0.))\n",
    "        y_off = odeint(rhs_eq, y_on[-1], time[(n-1):], args=(0., 0.))[1:]\n",
    "        \n",
    "        responces_1.append(\n",
    "            np.vstack([y_on, y_off]) @ C\n",
    "        )\n",
    "            \n",
    "        # response when only u2 is on\n",
    "        y_on = odeint(rhs_eq, np.zeros(2), time[:n], args=(0., v2))\n",
    "        y_off = odeint(rhs_eq, y_on[-1], time[(n-1):], args=(0., 0.))[1:]\n",
    "\n",
    "        responces_2.append(\n",
    "             np.vstack([y_on, y_off]) @ C\n",
    "        )\n",
    "        \n",
    "    return np.array(responces_1), np.array(responces_2)"
   ]
  },
  {
   "cell_type": "code",
   "execution_count": 4,
   "metadata": {},
   "outputs": [],
   "source": [
    "# Matricies from the example in paper\n",
    "Ac = np.array([[-1, 0], [1, -2]])\n",
    "Nc1 = np.array([[0, 0], [1, 1]])\n",
    "Nc2 = np.array([[1, 1], [0, 0]])\n",
    "Bc = np.array([[1, 0], [0, 1]])\n",
    "C = np.array([0, 1])"
   ]
  },
  {
   "cell_type": "code",
   "execution_count": 5,
   "metadata": {},
   "outputs": [],
   "source": [
    "orig_responces_1, orig_responces_2 = response(Ac=Ac, Bc=Bc, Nc1=Nc1, Nc2=Nc2, C=C)"
   ]
  },
  {
   "cell_type": "code",
   "execution_count": 6,
   "metadata": {},
   "outputs": [
    {
     "data": {
      "image/png": "[encoded data removed]",
      "text/plain": [
       "<Figure size 432x288 with 1 Axes>"
      ]
     },
     "metadata": {
      "needs_background": "light"
     },
     "output_type": "display_data"
    }
   ],
   "source": [
    "plt.plot(orig_responces_1.T)\n",
    "plt.plot(orig_responces_2.T)\n",
    "plt.xlabel(\"time in units of dt\")\n",
    "plt.ylabel(\"response\")\n",
    "plt.show()"
   ]
  },
  {
   "cell_type": "markdown",
   "metadata": {},
   "source": [
    "##  Going to different representation via randomly generated transformation matrix"
   ]
  },
  {
   "cell_type": "code",
   "execution_count": 7,
   "metadata": {},
   "outputs": [],
   "source": [
    "Phi = np.random.rand(4).reshape(2,2) - 0.5\n",
    "Phi_inv = np.linalg.inv(Phi)"
   ]
  },
  {
   "cell_type": "code",
   "execution_count": 8,
   "metadata": {},
   "outputs": [],
   "source": [
    "responces_1, responces_2 = response(\n",
    "    Ac= Phi_inv @ Ac @ Phi, \n",
    "    Bc= Phi_inv @ Bc, \n",
    "    Nc1= Phi_inv @ Nc1 @ Phi, \n",
    "    Nc2= Phi_inv @ Nc2 @ Phi, \n",
    "    C=C @ Phi\n",
    ")"
   ]
  },
  {
   "cell_type": "code",
   "execution_count": 9,
   "metadata": {},
   "outputs": [
    {
     "name": "stdout",
     "output_type": "stream",
     "text": [
      "Does responces coinside?\n"
     ]
    },
    {
     "data": {
      "text/plain": [
       "True"
      ]
     },
     "execution_count": 9,
     "metadata": {},
     "output_type": "execute_result"
    }
   ],
   "source": [
    "print(\"Does responces coinside?\")\n",
    "np.allclose(orig_responces_1, responces_1) and np.allclose(orig_responces_2, responces_2)"
   ]
  },
  {
   "cell_type": "markdown",
   "metadata": {},
   "source": [
    "# System identification"
   ]
  },
  {
   "cell_type": "code",
   "execution_count": 10,
   "metadata": {},
   "outputs": [],
   "source": [
    "def hankel_pairs (  v = np.array([111,112,121,122,131,132]),\n",
    "                    h = np.array([211,212,221,222,231,232,241,242]) ):\n",
    "    v = np.asarray(v).ravel()\n",
    "    h = np.asarray(h).ravel()\n",
    "    a, b = np.ogrid[0:len(v), 0:len(h)]\n",
    "    indx = a + b\n",
    "    for i in range(1, len(v)): indx[i:, :] = indx[i:, :] + 1\n",
    "    vals = np.concatenate((v, h))\n",
    "    return(vals[indx[:int(len(v)/2), :]])"
   ]
  },
  {
   "cell_type": "code",
   "execution_count": 11,
   "metadata": {},
   "outputs": [
    {
     "data": {
      "text/plain": [
       "array([[111, 112, 121, 122, 131, 132, 211, 212],\n",
       "       [121, 122, 131, 132, 211, 212, 221, 222],\n",
       "       [131, 132, 211, 212, 221, 222, 231, 232]])"
      ]
     },
     "execution_count": 11,
     "metadata": {},
     "output_type": "execute_result"
    }
   ],
   "source": [
    "hankel_pairs()"
   ]
  },
  {
   "cell_type": "code",
   "execution_count": 12,
   "metadata": {},
   "outputs": [],
   "source": [
    "Y1 = np.vstack([orig_responces_1[0], orig_responces_2[0]]).T"
   ]
  },
  {
   "cell_type": "code",
   "execution_count": 13,
   "metadata": {},
   "outputs": [],
   "source": [
    "# declare parameters\n",
    "m = 1 # number of outputs \n",
    "r = 2 # number of controls\n",
    "alpha = 5\n",
    "beta = 6"
   ]
  },
  {
   "cell_type": "code",
   "execution_count": 14,
   "metadata": {},
   "outputs": [],
   "source": [
    "# Eq. (19) in [Juang - 2005]\n",
    "# H1 = hankel_pairs(Y1[1:(alpha + 1)], Y1[(alpha + 1):(alpha + beta + 1)])"
   ]
  },
  {
   "cell_type": "code",
   "execution_count": 15,
   "metadata": {},
   "outputs": [],
   "source": [
    "# Eq. (21) in [Juang - 2005]\n",
    "# U1, Sigma1, V1_T = np.linalg.svd(H1, full_matrices=False)"
   ]
  },
  {
   "cell_type": "code",
   "execution_count": 16,
   "metadata": {},
   "outputs": [],
   "source": [
    "U1, Sigma1, V1_T = np.linalg.svd(hankel_pairs(Y1[1:10], Y1[10:]), full_matrices=False)"
   ]
  },
  {
   "cell_type": "code",
   "execution_count": 17,
   "metadata": {},
   "outputs": [
    {
     "data": {
      "text/plain": [
       "array([6.75358026e-01, 4.89219935e-02, 1.37403357e-08, 1.20855504e-08,\n",
       "       8.65689577e-09, 4.31760747e-09, 3.26453519e-09, 3.05597395e-09,\n",
       "       2.59263811e-09])"
      ]
     },
     "execution_count": 17,
     "metadata": {},
     "output_type": "execute_result"
    }
   ],
   "source": [
    "Sigma1"
   ]
  },
  {
   "cell_type": "code",
   "execution_count": 18,
   "metadata": {},
   "outputs": [],
   "source": [
    "# we see that the rank of the system is 2\n",
    "rank = 2"
   ]
  },
  {
   "cell_type": "code",
   "execution_count": 19,
   "metadata": {},
   "outputs": [],
   "source": [
    "# Eq. (27) in [Juang - 2005]\n",
    "C_reconstructed = U1[:m, :rank]"
   ]
  },
  {
   "cell_type": "code",
   "execution_count": 20,
   "metadata": {},
   "outputs": [
    {
     "data": {
      "text/plain": [
       "array([[-0.92526511,  0.37603953]])"
      ]
     },
     "execution_count": 20,
     "metadata": {},
     "output_type": "execute_result"
    }
   ],
   "source": [
    "C_reconstructed"
   ]
  },
  {
   "cell_type": "code",
   "execution_count": 21,
   "metadata": {},
   "outputs": [],
   "source": [
    "# Eqs. (29) and (30) in [Juang - 2005]\n",
    "U1_up = U1[:-m,]\n",
    "U1_down = U1[m:,]"
   ]
  },
  {
   "cell_type": "code",
   "execution_count": 22,
   "metadata": {},
   "outputs": [
    {
     "data": {
      "image/png": "[encoded data removed]",
      "text/plain": [
       "<Figure size 432x288 with 2 Axes>"
      ]
     },
     "metadata": {
      "needs_background": "light"
     },
     "output_type": "display_data"
    }
   ],
   "source": [
    "plt.title('$U_{1\\\\uparrow}^{\\dagger}U_{1\\\\uparrow}$ is almost an identity matrix. Though I do not understnad why!!!')\n",
    "plt.imshow(U1_up.conj().T @ U1_up)\n",
    "plt.colorbar()\n",
    "plt.show()"
   ]
  },
  {
   "cell_type": "code",
   "execution_count": 23,
   "metadata": {},
   "outputs": [
    {
     "data": {
      "text/plain": [
       "True"
      ]
     },
     "execution_count": 23,
     "metadata": {},
     "output_type": "execute_result"
    }
   ],
   "source": [
    "# Original Eq. (32) in [Juang - 2005], which works but I do not understand why it works \n",
    "Ac_reconstructed_original_formula = logm(\n",
    "    (U1_up.conj().T @ U1_down)[:rank, :rank]\n",
    ") / dt\n",
    "\n",
    "# I think the correct form of Eq. (32) is \n",
    "Ac_reconstructed = logm(np.linalg.lstsq(U1_up, U1_down, rcond=None)[0][:rank, :rank]) / dt\n",
    "\n",
    "# even though the results are identical\n",
    "np.allclose(Ac_reconstructed, Ac_reconstructed_original_formula)"
   ]
  },
  {
   "cell_type": "code",
   "execution_count": 24,
   "metadata": {},
   "outputs": [],
   "source": [
    "# Eq. (28) in [Juang - 2005] \n",
    "B1_bar = (Sigma1[..., None] * V1_T)[:rank, :r] # the same as (np.diag(Sigma1) @ V1_T)[:, :r]"
   ]
  },
  {
   "cell_type": "code",
   "execution_count": 25,
   "metadata": {},
   "outputs": [],
   "source": [
    "U1 = U1[:(alpha * m), :rank]\n",
    "V1_T = V1_T[:(beta * r), :rank]\n",
    "Sigma1 = Sigma1[:rank]"
   ]
  },
  {
   "cell_type": "code",
   "execution_count": 26,
   "metadata": {},
   "outputs": [
    {
     "data": {
      "text/plain": [
       "(array([[-0.95084945,  3.94885029],\n",
       "        [-0.01305895, -2.04915058]]),\n",
       " array([[-1.0629,  3.9782],\n",
       "        [ 0.0148, -1.9371]]))"
      ]
     },
     "execution_count": 26,
     "metadata": {},
     "output_type": "execute_result"
    }
   ],
   "source": [
    "# !!!!!!!!!!!!!!!!!!!! this is not quite !!!!!!!!!!!!!!!!\n",
    "\n",
    "Ac_reconstructed, np.array([[-1.0629, 3.9782], [0.0148, -1.9371]])"
   ]
  },
  {
   "cell_type": "code",
   "execution_count": 27,
   "metadata": {},
   "outputs": [],
   "source": [
    "# Eq. (36) in [Juang - 2005] \n",
    "H2 = np.vstack([orig_responces_1[1], orig_responces_2[1]]).T\n",
    "H2 = H2[2:(alpha + 2)]"
   ]
  },
  {
   "cell_type": "code",
   "execution_count": 28,
   "metadata": {},
   "outputs": [
    {
     "data": {
      "text/plain": [
       "array([[ 9.99950068e-01, -1.86724544e-04],\n",
       "       [-1.86724544e-04,  9.99301725e-01]])"
      ]
     },
     "execution_count": 28,
     "metadata": {},
     "output_type": "execute_result"
    }
   ],
   "source": [
    "# Note that U1 is nearly unitary, which is a good news so Eq. (38) is applicable\n",
    "U1.conj().T @ U1"
   ]
  },
  {
   "cell_type": "code",
   "execution_count": 29,
   "metadata": {},
   "outputs": [],
   "source": [
    "# Eq. (38) in [Juang - 2005] \n",
    "B2_bar = U1.conj().T @ H2"
   ]
  },
  {
   "cell_type": "code",
   "execution_count": 30,
   "metadata": {},
   "outputs": [],
   "source": [
    "# Eq. (41) in [Juang - 2005] \n",
    "H3 = np.vstack([orig_responces_1[2], orig_responces_2[2]]).T\n",
    "H3 = H3[3:(alpha + 3)]\n",
    "\n",
    "H4 = np.vstack([orig_responces_1[3], orig_responces_2[3]]).T\n",
    "H4 = H4[4:(alpha + 4)]\n",
    "\n",
    "H5 = np.vstack([orig_responces_1[4], orig_responces_2[4]]).T\n",
    "H5 = H5[5:(alpha + 5)]"
   ]
  },
  {
   "cell_type": "code",
   "execution_count": 31,
   "metadata": {},
   "outputs": [],
   "source": [
    "# Eq. (43) in [Juang - 2005]\n",
    "B3_bar = U1.conj().T @ H3\n",
    "B4_bar = U1.conj().T @ H4\n",
    "B5_bar = U1.conj().T @ H5"
   ]
  },
  {
   "cell_type": "code",
   "execution_count": 32,
   "metadata": {},
   "outputs": [],
   "source": [
    "B_bar = [B1_bar, B2_bar - B1_bar, B3_bar - B2_bar, B4_bar - B3_bar, B5_bar - B4_bar]"
   ]
  },
  {
   "cell_type": "code",
   "execution_count": 33,
   "metadata": {},
   "outputs": [],
   "source": [
    "C1 = np.vstack([b[:, 0] for b in B_bar]).T\n",
    "C2 = np.vstack([b[:, 1] for b in B_bar]).T"
   ]
  },
  {
   "cell_type": "code",
   "execution_count": 34,
   "metadata": {},
   "outputs": [],
   "source": [
    "C1_left = C1[:, :-1]\n",
    "C1_right = C1[:, 1:]\n",
    "\n",
    "C2_left = C2[:, :-1]\n",
    "C2_right = C2[:, 1:]"
   ]
  },
  {
   "cell_type": "code",
   "execution_count": 35,
   "metadata": {},
   "outputs": [
    {
     "data": {
      "text/plain": [
       "array([[ 0.9942401 , -0.11104432],\n",
       "       [-0.11104432,  0.02305735]])"
      ]
     },
     "execution_count": 35,
     "metadata": {},
     "output_type": "execute_result"
    }
   ],
   "source": [
    "# NOTE C1_left is NOT RIGHT-UNITARY\n",
    "C1_left @ C1_left.conj().T"
   ]
  },
  {
   "cell_type": "code",
   "execution_count": 36,
   "metadata": {},
   "outputs": [],
   "source": [
    "# Eq. (54) in [Juang - 2005]. I think this Eq may be incorect!!!\n",
    "#log_A1_bar = logm(C1_right @ C1_left.conj().T)\n",
    "#log_A2_bar = logm(C2_right @ C2_left.conj().T)\n",
    "\n",
    "# the corrected version should be\n",
    "log_A1_bar = logm(np.linalg.lstsq(C1_left.conj().T, C1_right.conj().T, rcond=None)[0].conj().T)\n",
    "log_A2_bar = logm(np.linalg.lstsq(C2_left.conj().T, C2_right.conj().T, rcond=None)[0].conj().T)\n",
    "\n",
    "Nc1_reconstructed = (log_A1_bar / dt - Ac_reconstructed) / v1\n",
    "Nc2_reconstructed = (log_A2_bar / dt - Ac_reconstructed) / v2"
   ]
  },
  {
   "cell_type": "code",
   "execution_count": 37,
   "metadata": {},
   "outputs": [],
   "source": [
    "def series_in_Eq52(y):\n",
    "    \"\"\"\n",
    "    Series in Eqs. (52) in [Juang - 2005]\n",
    "    \"\"\"\n",
    "    \n",
    "    result = np.eye(rank) * dt\n",
    "    \n",
    "    r = 2\n",
    "\n",
    "    term = np.eye(rank) * dt\n",
    "    \n",
    "    while np.linalg.norm(term) > 1e-10:\n",
    "        term = term @ y\n",
    "        term *= dt / r\n",
    "        r += 1\n",
    "        result += term\n",
    "    \n",
    "    return np.linalg.inv(result) "
   ]
  },
  {
   "cell_type": "code",
   "execution_count": 38,
   "metadata": {},
   "outputs": [],
   "source": [
    "# Eqs. (52) and (53) in [Juang - 2005]\n",
    "Bc_reconstructed = np.vstack([\n",
    "    series_in_Eq52(log_A1_bar / dt) @ B1_bar[:, 0] / v1, \n",
    "    series_in_Eq52(log_A2_bar / dt) @ B1_bar[:, 1] / v2,\n",
    "]).T"
   ]
  },
  {
   "cell_type": "markdown",
   "metadata": {},
   "source": [
    "## Our reconstructed responses "
   ]
  },
  {
   "cell_type": "code",
   "execution_count": 39,
   "metadata": {},
   "outputs": [],
   "source": [
    "responces_1, responces_2 = response(\n",
    "    Ac = Ac_reconstructed,\n",
    "    Bc = Bc_reconstructed,\n",
    "    Nc1 = Nc1_reconstructed, \n",
    "    Nc2 = Nc2_reconstructed, \n",
    "    C = C_reconstructed[0]\n",
    ")"
   ]
  },
  {
   "cell_type": "code",
   "execution_count": 40,
   "metadata": {},
   "outputs": [
    {
     "data": {
      "image/png": "[encoded data removed]",
      "text/plain": [
       "<Figure size 432x288 with 1 Axes>"
      ]
     },
     "metadata": {
      "needs_background": "light"
     },
     "output_type": "display_data"
    },
    {
     "data": {
      "image/png": "[encoded data removed]",
      "text/plain": [
       "<Figure size 432x288 with 1 Axes>"
      ]
     },
     "metadata": {
      "needs_background": "light"
     },
     "output_type": "display_data"
    }
   ],
   "source": [
    "plt.title(\"Our reconstructed model\")\n",
    "plt.plot(responces_1.T)\n",
    "plt.plot(responces_2.T)\n",
    "plt.xlabel(\"time in units of dt\")\n",
    "plt.ylabel(\"response\")\n",
    "plt.show()\n",
    "\n",
    "plt.title(\"Original model\")\n",
    "plt.plot(orig_responces_1.T)\n",
    "plt.plot(orig_responces_2.T)\n",
    "plt.xlabel(\"time in units of dt\")\n",
    "plt.ylabel(\"response\")\n",
    "plt.show()\n"
   ]
  },
  {
   "cell_type": "code",
   "execution_count": 41,
   "metadata": {},
   "outputs": [
    {
     "data": {
      "text/plain": [
       "(0.0001986889848342166, 5.7295133242096785e-05)"
      ]
     },
     "execution_count": 41,
     "metadata": {},
     "output_type": "execute_result"
    }
   ],
   "source": [
    "# difference between the response of the reconstructed model and the original model is small\n",
    "# which is GREAT\n",
    "np.abs(responces_1 - orig_responces_1).max(), np.abs(responces_2 - orig_responces_2).max()"
   ]
  },
  {
   "cell_type": "markdown",
   "metadata": {},
   "source": [
    "## Comparing to example in the paper"
   ]
  },
  {
   "cell_type": "code",
   "execution_count": 42,
   "metadata": {},
   "outputs": [],
   "source": [
    "paper_responces_1, paper_responces_2 = response(\n",
    "    Ac = np.array([[-1.0629, 3.9782], [0.0148, -1.9371]]),\n",
    "    Bc = np.array([[-0.0929, -0.9824], [-0.2484, 0.2314]]),\n",
    "    Nc1 = np.array([[1.7752, 3.2911], [-0.4182, -0.7752]]), \n",
    "    Nc2 = np.array([[0.1678, 0.3111], [0.4489, 0.8322]]), \n",
    "    C = np.array([-0.9355, 0.3497])\n",
    ")"
   ]
  },
  {
   "cell_type": "code",
   "execution_count": 43,
   "metadata": {},
   "outputs": [
    {
     "data": {
      "image/png": "[encoded data removed]",
      "text/plain": [
       "<Figure size 432x288 with 1 Axes>"
      ]
     },
     "metadata": {
      "needs_background": "light"
     },
     "output_type": "display_data"
    }
   ],
   "source": [
    "plt.plot(paper_responces_1.T)\n",
    "plt.plot(paper_responces_2.T)\n",
    "plt.xlabel(\"time in units of dt\")\n",
    "plt.ylabel(\"response\")\n",
    "plt.show()"
   ]
  }
 ],
 "metadata": {
  "kernelspec": {
   "display_name": "Python 3",
   "language": "python",
   "name": "python3"
  },
  "language_info": {
   "codemirror_mode": {
    "name": "ipython",
    "version": 3
   },
   "file_extension": ".py",
   "mimetype": "text/x-python",
   "name": "python",
   "nbconvert_exporter": "python",
   "pygments_lexer": "ipython3",
   "version": "3.7.6"
  }
 },
 "nbformat": 4,
 "nbformat_minor": 1
}
