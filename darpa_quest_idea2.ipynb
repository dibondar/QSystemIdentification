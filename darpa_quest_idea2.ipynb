{
 "cells": [
  {
   "cell_type": "code",
   "execution_count": null,
   "metadata": {},
   "outputs": [],
   "source": []
  },
  {
   "cell_type": "code",
   "execution_count": 1,
   "metadata": {},
   "outputs": [],
   "source": [
    "from qutip import *\n",
    "import numpy as np\n",
    "import matplotlib.pyplot as plt\n",
    "from scipy.linalg import funm\n",
    "import qutip.control.pulseoptim as cpo"
   ]
  },
  {
   "cell_type": "markdown",
   "metadata": {},
   "source": [
    "We begin by saying that the smallest frequency solution to the 1D wave equation (i.e., Maxwell's equation) is\n",
    "$$\n",
    "    E(t,x) = \\sin\\left( \\frac{\\pi(2x + L)}{2L} \\right) \\cos\\frac{c\\pi t}{L}\n",
    "$$\n",
    "with the boundary condition $E(t,-L/2)=E(t,+L/2)=0$.\n",
    "\n",
    "Consider two level system in a cavity with moving mirrors with velocity $v_0$. When we move mirrors we change the frequency of the cavity mode. So we can study the Jaynes-Cummings-like model (without using the rotating wave approximation)\n",
    "\n",
    "$$\n",
    "    \\hat{H} = \\frac{c\\pi}{L_0 - vt}\\hat{a}^{\\dagger}\\hat{a} + \\omega_a\\sigma_{-}^{\\dagger} \\sigma_{-}\n",
    "        + g\\left(\\hat{a}^{\\dagger} + \\hat{a}\\right)\\left(\\sigma_-^{\\dagger} + \\sigma_-\\right)\n",
    "$$"
   ]
  },
  {
   "cell_type": "code",
   "execution_count": 2,
   "metadata": {},
   "outputs": [
    {
     "name": "stderr",
     "output_type": "stream",
     "text": [
      "<>:43: DeprecationWarning: invalid escape sequence \\h\n",
      "<>:43: DeprecationWarning: invalid escape sequence \\s\n",
      "<>:43: DeprecationWarning: invalid escape sequence \\h\n",
      "<>:43: DeprecationWarning: invalid escape sequence \\s\n",
      "<>:43: DeprecationWarning: invalid escape sequence \\h\n",
      "<>:43: DeprecationWarning: invalid escape sequence \\s\n",
      "<ipython-input-2-9faa7ce1c71a>:43: DeprecationWarning: invalid escape sequence \\h\n",
      "  ylabels=['$\\\\langle \\hat{a}^{\\dagger}\\hat{a} \\\\rangle$', '$\\\\langle\\sigma_{-}^{\\dagger} \\sigma_{-}\\\\rangle$']\n",
      "<ipython-input-2-9faa7ce1c71a>:43: DeprecationWarning: invalid escape sequence \\s\n",
      "  ylabels=['$\\\\langle \\hat{a}^{\\dagger}\\hat{a} \\\\rangle$', '$\\\\langle\\sigma_{-}^{\\dagger} \\sigma_{-}\\\\rangle$']\n"
     ]
    }
   ],
   "source": [
    "def compute_JC(v):\n",
    "    \n",
    "    ##################################################\n",
    "    #\n",
    "    # Parameters\n",
    "    #\n",
    "    ##################################################\n",
    "    N = 200\n",
    "    \n",
    "    c = 137\n",
    "    omega_a = 0.1\n",
    "    L = 1000.\n",
    "    g = 0.1\n",
    "    \n",
    "    ##################################################\n",
    "    \n",
    "    a  = tensor(destroy(N), qeye(2))\n",
    "    sigma_minus = tensor(qeye(N), destroy(2))\n",
    "    n_cavity = a.dag() * a\n",
    "    n_atom = sigma_minus.dag() * sigma_minus\n",
    "    \n",
    "    # get ground state at t = 0\n",
    "    H0 = omega_a * n_atom + g * (a.dag() + a) * (sigma_minus.dag() + sigma_minus)\n",
    "    H = c * np.pi / L * n_cavity + H0\n",
    "    evals, ekets = H.eigenstates()\n",
    "    ground_state = ekets[0]\n",
    "    \n",
    "    #print(max([expect(n_atom, ket) for ket in ekets]), [expect(n_atom, ket) for ket in ekets])\n",
    "    #   print(expect(n_atom, ekets[1]))\n",
    "    #print(expect(n_atom, ground_state))\n",
    "    #print(expect(n_cavity, ground_state))\n",
    "\n",
    "    \n",
    "    H = [H0, [n_cavity, lambda t, args: c * np.pi/ (L + v * t )]]\n",
    "    #H = [H0, [n_cavity, lambda t, args: c * np.pi/ (L) * (1 + (v * np.sin(omega_a * t)) ** 2)]]\n",
    "    \n",
    "    \n",
    "    time = np.linspace(0., 400., 100)\n",
    "    results = mesolve(H, ground_state, time, e_ops=[n_cavity, n_atom])\n",
    "    \n",
    "    plot_expectation_values(\n",
    "        results, \n",
    "        ylabels=['$\\\\langle \\hat{a}^{\\dagger}\\hat{a} \\\\rangle$', '$\\\\langle\\sigma_{-}^{\\dagger} \\sigma_{-}\\\\rangle$']\n",
    "    )\n",
    "    \"\"\"\n",
    "    #################### Control ##################\n",
    "    # Number of time slots\n",
    "    n_ts = 5\n",
    "    # Time allowed for the evolution\n",
    "    evo_time = 30\n",
    "    # Fidelity error target\n",
    "    fid_err_targ = 1e-3\n",
    "    # Maximum iterations for the optisation algorithm\n",
    "    max_iter = 500\n",
    "    # Maximum (elapsed) time allowed in seconds\n",
    "    max_wall_time = 500\n",
    "    #Set this to None or logging.WARN for 'quiet' execution\n",
    "    import qutip.logging_utils as logging\n",
    "    log_level = logging.INFO\n",
    "    \n",
    "    result = cpo.opt_pulse_crab_unitary(c * np.pi / L * n_cavity + H0, [n_cavity], ground_state, ekets[1], n_ts, evo_time, \n",
    "                fid_err_targ=fid_err_targ, \n",
    "                max_iter=max_iter, max_wall_time=max_wall_time, \n",
    "                init_coeff_scaling=5.0, num_coeffs=5, \n",
    "                method_params={'xtol':1e-3},\n",
    "                guess_pulse_type=None, guess_pulse_action='MODULATE',\n",
    "                out_file_ext=None,\n",
    "                log_level=log_level, gen_stats=True\n",
    "                )\n",
    "    return result\n",
    "    \"\"\"\n"
   ]
  },
  {
   "cell_type": "code",
   "execution_count": 3,
   "metadata": {},
   "outputs": [
    {
     "data": {
      "image/png": "[encoded data removed]",
      "text/plain": [
       "<Figure size 576x288 with 2 Axes>"
      ]
     },
     "metadata": {
      "needs_background": "light"
     },
     "output_type": "display_data"
    }
   ],
   "source": [
    "result = compute_JC(30)"
   ]
  },
  {
   "cell_type": "code",
   "execution_count": 4,
   "metadata": {
    "scrolled": false
   },
   "outputs": [
    {
     "data": {
      "text/plain": [
       "'\\nresult.stats.report()\\n# print(\"Final evolution\\n{}\\n\".format(result.evo_full_final))\\nprint(\"********* Summary *****************\")\\nprint(\"Final fidelity error {}\".format(result.fid_err))\\nprint(\"Final gradient normal {}\".format(result.grad_norm_final))\\nprint(\"Terminated due to {}\".format(result.termination_reason))\\nprint(\"Number of iterations {}\".format(result.num_iter))\\n# print(\"Completed in {} HH:MM:SS.US\".format(datetime.timedelta(seconds=result.wall_time)))\\n'"
      ]
     },
     "execution_count": 4,
     "metadata": {},
     "output_type": "execute_result"
    }
   ],
   "source": [
    "\"\"\"\n",
    "result.stats.report()\n",
    "# print(\"Final evolution\\n{}\\n\".format(result.evo_full_final))\n",
    "print(\"********* Summary *****************\")\n",
    "print(\"Final fidelity error {}\".format(result.fid_err))\n",
    "print(\"Final gradient normal {}\".format(result.grad_norm_final))\n",
    "print(\"Terminated due to {}\".format(result.termination_reason))\n",
    "print(\"Number of iterations {}\".format(result.num_iter))\n",
    "# print(\"Completed in {} HH:MM:SS.US\".format(datetime.timedelta(seconds=result.wall_time)))\n",
    "\"\"\""
   ]
  },
  {
   "cell_type": "code",
   "execution_count": 5,
   "metadata": {},
   "outputs": [
    {
     "data": {
      "text/plain": [
       "'\\nfig1 = plt.figure()\\nax1 = fig1.add_subplot(2, 1, 1)\\nax1.set_title(\"Initial Control amps\")\\nax1.set_ylabel(\"Control amplitude\")\\nax1.step(result.time, \\n         np.hstack((result.initial_amps[:, 0], result.initial_amps[-1, 0])), \\n         where=\\'post\\')\\n\\nax2 = fig1.add_subplot(2, 1, 2)\\nax2.set_title(\"Optimised Control Amplitudes\")\\nax2.set_xlabel(\"Time\")\\nax2.set_ylabel(\"Control amplitude\")\\nax2.step(result.time, \\n         np.hstack((result.final_amps[:, 0], result.final_amps[-1, 0])), \\n         where=\\'post\\')\\nplt.tight_layout()\\nplt.show()\\n'"
      ]
     },
     "execution_count": 5,
     "metadata": {},
     "output_type": "execute_result"
    }
   ],
   "source": [
    "\"\"\"\n",
    "fig1 = plt.figure()\n",
    "ax1 = fig1.add_subplot(2, 1, 1)\n",
    "ax1.set_title(\"Initial Control amps\")\n",
    "ax1.set_ylabel(\"Control amplitude\")\n",
    "ax1.step(result.time, \n",
    "         np.hstack((result.initial_amps[:, 0], result.initial_amps[-1, 0])), \n",
    "         where='post')\n",
    "\n",
    "ax2 = fig1.add_subplot(2, 1, 2)\n",
    "ax2.set_title(\"Optimised Control Amplitudes\")\n",
    "ax2.set_xlabel(\"Time\")\n",
    "ax2.set_ylabel(\"Control amplitude\")\n",
    "ax2.step(result.time, \n",
    "         np.hstack((result.final_amps[:, 0], result.final_amps[-1, 0])), \n",
    "         where='post')\n",
    "plt.tight_layout()\n",
    "plt.show()\n",
    "\"\"\""
   ]
  },
  {
   "cell_type": "code",
   "execution_count": null,
   "metadata": {},
   "outputs": [],
   "source": []
  },
  {
   "cell_type": "markdown",
   "metadata": {},
   "source": [
    "## Specifying quantum system\n",
    "\n",
    "The hamiltonian\n",
    "$$\n",
    "    \\hat{H} = \\frac{1}{2}\\hat{p}^2 + V(\\hat{x}) + \\frac{c\\pi}{L} \\hat{a}^{\\dagger}\\hat{a} \n",
    "        + g (\\hat{a}^{\\dagger}+ \\hat{a}) \\sin\\left(\\frac{\\pi}{L}\\left[\\hat{x} - \\frac{L}{2}\\right]\\right),\n",
    "$$\n",
    "with the potential energy as assymetric potential energy barrier\n",
    "$$\n",
    "    V(\\hat{x}) = \\alpha\\hat{x}^4 - \\beta\\hat{x}^2 + \\gamma\\hat{x}\n",
    "$$"
   ]
  },
  {
   "cell_type": "code",
   "execution_count": 169,
   "metadata": {},
   "outputs": [],
   "source": [
    "N = 80\n",
    "\n",
    "a = destroy(N)\n",
    "\n",
    "# momentum operator\n",
    "p = 1j * np.sqrt(0.5 * 1.) * (a.dag() - a)\n",
    "\n",
    "# coordinate operator\n",
    "x = np.sqrt(0.5 / 1.) * (a.dag() + a)"
   ]
  },
  {
   "cell_type": "code",
   "execution_count": 170,
   "metadata": {},
   "outputs": [],
   "source": [
    "# potential energy\n",
    "alpha = 1/300.\n",
    "beta = 1/4.\n",
    "gamma = -0.3\n",
    "\n",
    "c = 137\n",
    "L = 1000.\n",
    "g = 0.2\n",
    "\n",
    "V = lambda x: alpha * x ** 4 - beta * x ** 2 + gamma * x"
   ]
  },
  {
   "cell_type": "code",
   "execution_count": 171,
   "metadata": {},
   "outputs": [
    {
     "data": {
      "text/plain": [
       "(-10, 10)"
      ]
     },
     "execution_count": 171,
     "metadata": {},
     "output_type": "execute_result"
    },
    {
     "data": {
      "image/png": "[encoded data removed]",
      "text/plain": [
       "<Figure size 432x288 with 1 Axes>"
      ]
     },
     "metadata": {
      "needs_background": "light"
     },
     "output_type": "display_data"
    }
   ],
   "source": [
    "# plot the potential energy (in the coordinate representation)\n",
    "x_grid = np.sort(x.eigenenergies()) \n",
    "\n",
    "plt.title(\"Potential energy $V(x)$\")\n",
    "plt.plot(x_grid, V(x_grid), '*-')\n",
    "plt.xlabel(\"$x$ (a.u.)\")\n",
    "plt.ylabel(\"$V(x)$\")\n",
    "plt.xlim([-15, 15])\n",
    "plt.ylim([-10, 10])"
   ]
  },
  {
   "cell_type": "code",
   "execution_count": 172,
   "metadata": {},
   "outputs": [],
   "source": [
    "# define the total hamiltonian\n",
    "H_atom = tensor(qeye(N), 0.5 * p ** 2 + V(x))\n",
    "H0 = H_atom + g * tensor(a.dag() + a, x)\n",
    "n_cavity = tensor(a.dag() * a, qeye(N))\n",
    "\n",
    "H = H0 + c * np.pi/ L * n_cavity\n",
    "\n",
    "v = 10"
   ]
  },
  {
   "cell_type": "code",
   "execution_count": 173,
   "metadata": {},
   "outputs": [],
   "source": [
    "# the projector to the right hand side of x\n",
    "proj_right_x = Qobj(funm(x.data.toarray(), lambda x: (x > 0)))\n",
    "proj_right_x = tensor(qeye(N), proj_right_x)"
   ]
  },
  {
   "cell_type": "code",
   "execution_count": 174,
   "metadata": {},
   "outputs": [],
   "source": [
    "evals, ekets = H.eigenstates()\n",
    "ground_state = ekets[0]\n",
    "#ground_state = H.groundstate()"
   ]
  },
  {
   "cell_type": "code",
   "execution_count": 175,
   "metadata": {},
   "outputs": [],
   "source": [
    "H = [H0, [n_cavity, lambda t, args: c * np.pi/ (L + v * t )]]"
   ]
  },
  {
   "cell_type": "code",
   "execution_count": 176,
   "metadata": {},
   "outputs": [
    {
     "name": "stderr",
     "output_type": "stream",
     "text": [
      "<>:6: DeprecationWarning: invalid escape sequence \\h\n",
      "<>:6: DeprecationWarning: invalid escape sequence \\s\n",
      "<>:6: DeprecationWarning: invalid escape sequence \\h\n",
      "<>:6: DeprecationWarning: invalid escape sequence \\s\n",
      "<>:6: DeprecationWarning: invalid escape sequence \\h\n",
      "<>:6: DeprecationWarning: invalid escape sequence \\s\n",
      "<ipython-input-176-611fafa8970e>:6: DeprecationWarning: invalid escape sequence \\h\n",
      "  ylabels=['$\\\\langle \\hat{a}^{\\dagger}\\hat{a} \\\\rangle$', '$\\\\langle\\sigma_{-}^{\\dagger} \\sigma_{-}\\\\rangle$']\n",
      "<ipython-input-176-611fafa8970e>:6: DeprecationWarning: invalid escape sequence \\s\n",
      "  ylabels=['$\\\\langle \\hat{a}^{\\dagger}\\hat{a} \\\\rangle$', '$\\\\langle\\sigma_{-}^{\\dagger} \\sigma_{-}\\\\rangle$']\n",
      "/opt/anaconda3/lib/python3.7/site-packages/scipy/integrate/_ode.py:1009: UserWarning: zvode: Excess work done on this call. (Perhaps wrong MF.)\n",
      "  self.messages.get(istate, unexpected_istate_msg)))\n"
     ]
    },
    {
     "ename": "Exception",
     "evalue": "ODE integration error: Try to increase the allowed number of substeps by increasing the nsteps parameter in the Options class.",
     "output_type": "error",
     "traceback": [
      "\u001b[0;31m---------------------------------------------------------------------------\u001b[0m",
      "\u001b[0;31mException\u001b[0m                                 Traceback (most recent call last)",
      "\u001b[0;32m<ipython-input-176-611fafa8970e>\u001b[0m in \u001b[0;36m<module>\u001b[0;34m\u001b[0m\n\u001b[1;32m      1\u001b[0m \u001b[0mtime\u001b[0m \u001b[0;34m=\u001b[0m \u001b[0mnp\u001b[0m\u001b[0;34m.\u001b[0m\u001b[0mlinspace\u001b[0m\u001b[0;34m(\u001b[0m\u001b[0;36m0.\u001b[0m\u001b[0;34m,\u001b[0m \u001b[0;36m600.\u001b[0m\u001b[0;34m,\u001b[0m \u001b[0;36m100\u001b[0m\u001b[0;34m)\u001b[0m\u001b[0;34m\u001b[0m\u001b[0;34m\u001b[0m\u001b[0m\n\u001b[0;32m----> 2\u001b[0;31m \u001b[0mresults\u001b[0m \u001b[0;34m=\u001b[0m \u001b[0mmesolve\u001b[0m\u001b[0;34m(\u001b[0m\u001b[0mH\u001b[0m\u001b[0;34m,\u001b[0m \u001b[0mground_state\u001b[0m\u001b[0;34m,\u001b[0m \u001b[0mtime\u001b[0m\u001b[0;34m,\u001b[0m \u001b[0me_ops\u001b[0m\u001b[0;34m=\u001b[0m\u001b[0;34m[\u001b[0m\u001b[0mn_cavity\u001b[0m\u001b[0;34m,\u001b[0m \u001b[0mproj_right_x\u001b[0m\u001b[0;34m]\u001b[0m\u001b[0;34m)\u001b[0m\u001b[0;34m\u001b[0m\u001b[0;34m\u001b[0m\u001b[0m\n\u001b[0m\u001b[1;32m      3\u001b[0m \u001b[0;34m\u001b[0m\u001b[0m\n\u001b[1;32m      4\u001b[0m plot_expectation_values(\n\u001b[1;32m      5\u001b[0m     \u001b[0mresults\u001b[0m\u001b[0;34m,\u001b[0m\u001b[0;34m\u001b[0m\u001b[0;34m\u001b[0m\u001b[0m\n",
      "\u001b[0;32m/opt/anaconda3/lib/python3.7/site-packages/qutip/mesolve.py\u001b[0m in \u001b[0;36mmesolve\u001b[0;34m(H, rho0, tlist, c_ops, e_ops, args, options, progress_bar, _safe_mode)\u001b[0m\n\u001b[1;32m    246\u001b[0m     \u001b[0;32mif\u001b[0m \u001b[0;32mnot\u001b[0m \u001b[0muse_mesolve\u001b[0m\u001b[0;34m:\u001b[0m\u001b[0;34m\u001b[0m\u001b[0;34m\u001b[0m\u001b[0m\n\u001b[1;32m    247\u001b[0m         return sesolve(H, rho0, tlist, e_ops=e_ops, args=args, options=options,\n\u001b[0;32m--> 248\u001b[0;31m                     progress_bar=progress_bar, _safe_mode=_safe_mode)\n\u001b[0m\u001b[1;32m    249\u001b[0m \u001b[0;34m\u001b[0m\u001b[0m\n\u001b[1;32m    250\u001b[0m \u001b[0;34m\u001b[0m\u001b[0m\n",
      "\u001b[0;32m/opt/anaconda3/lib/python3.7/site-packages/qutip/sesolve.py\u001b[0m in \u001b[0;36msesolve\u001b[0;34m(H, psi0, tlist, e_ops, args, options, progress_bar, _safe_mode)\u001b[0m\n\u001b[1;32m    168\u001b[0m \u001b[0;34m\u001b[0m\u001b[0m\n\u001b[1;32m    169\u001b[0m     res = _generic_ode_solve(func, ode_args, psi0, tlist, e_ops, options,\n\u001b[0;32m--> 170\u001b[0;31m                              progress_bar, dims=psi0.dims)\n\u001b[0m\u001b[1;32m    171\u001b[0m     \u001b[0;32mif\u001b[0m \u001b[0me_ops_dict\u001b[0m\u001b[0;34m:\u001b[0m\u001b[0;34m\u001b[0m\u001b[0;34m\u001b[0m\u001b[0m\n\u001b[1;32m    172\u001b[0m         res.expect = {e: res.expect[n]\n",
      "\u001b[0;32m/opt/anaconda3/lib/python3.7/site-packages/qutip/sesolve.py\u001b[0m in \u001b[0;36m_generic_ode_solve\u001b[0;34m(func, ode_args, psi0, tlist, e_ops, opt, progress_bar, dims)\u001b[0m\n\u001b[1;32m    350\u001b[0m         \u001b[0mprogress_bar\u001b[0m\u001b[0;34m.\u001b[0m\u001b[0mupdate\u001b[0m\u001b[0;34m(\u001b[0m\u001b[0mt_idx\u001b[0m\u001b[0;34m)\u001b[0m\u001b[0;34m\u001b[0m\u001b[0;34m\u001b[0m\u001b[0m\n\u001b[1;32m    351\u001b[0m         \u001b[0;32mif\u001b[0m \u001b[0;32mnot\u001b[0m \u001b[0mr\u001b[0m\u001b[0;34m.\u001b[0m\u001b[0msuccessful\u001b[0m\u001b[0;34m(\u001b[0m\u001b[0;34m)\u001b[0m\u001b[0;34m:\u001b[0m\u001b[0;34m\u001b[0m\u001b[0;34m\u001b[0m\u001b[0m\n\u001b[0;32m--> 352\u001b[0;31m             raise Exception(\"ODE integration error: Try to increase \"\n\u001b[0m\u001b[1;32m    353\u001b[0m                             \u001b[0;34m\"the allowed number of substeps by increasing \"\u001b[0m\u001b[0;34m\u001b[0m\u001b[0;34m\u001b[0m\u001b[0m\n\u001b[1;32m    354\u001b[0m                             \"the nsteps parameter in the Options class.\")\n",
      "\u001b[0;31mException\u001b[0m: ODE integration error: Try to increase the allowed number of substeps by increasing the nsteps parameter in the Options class."
     ]
    }
   ],
   "source": [
    "time = np.linspace(0., 600., 100)\n",
    "results = mesolve(H, ground_state, time, e_ops=[n_cavity, proj_right_x])\n",
    "    \n",
    "plot_expectation_values(\n",
    "    results, \n",
    "    ylabels=['$\\\\langle \\hat{a}^{\\dagger}\\hat{a} \\\\rangle$', '$\\\\langle\\sigma_{-}^{\\dagger} \\sigma_{-}\\\\rangle$']\n",
    ")"
   ]
  },
  {
   "cell_type": "code",
   "execution_count": null,
   "metadata": {},
   "outputs": [],
   "source": []
  },
  {
   "cell_type": "code",
   "execution_count": null,
   "metadata": {},
   "outputs": [],
   "source": []
  }
 ],
 "metadata": {
  "kernelspec": {
   "display_name": "Python 3",
   "language": "python",
   "name": "python3"
  },
  "language_info": {
   "codemirror_mode": {
    "name": "ipython",
    "version": 3
   },
   "file_extension": ".py",
   "mimetype": "text/x-python",
   "name": "python",
   "nbconvert_exporter": "python",
   "pygments_lexer": "ipython3",
   "version": "3.7.6"
  }
 },
 "nbformat": 4,
 "nbformat_minor": 1
}
