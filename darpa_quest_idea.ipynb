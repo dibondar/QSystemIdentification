{
 "cells": [
  {
   "cell_type": "markdown",
   "metadata": {
    "collapsed": true
   },
   "source": [
    "# Effect of vacuum on tunneling "
   ]
  },
  {
   "cell_type": "markdown",
   "metadata": {},
   "source": [
    "Controlling coherent transport by quantum vacuum \n",
    "\n",
    "Tunneling, a prominent mechanism of coherent transport, underpins a plethora of phenomena ranging from proton transfer in biochemistry to functioning of a tunneling diode. Tunneling dynamics is typically modeled using a 1D semiclassical approximation. It has been pointed out that tunneling can have drastically different properties if the interaction with other degrees of freedom during under the barrier motion is accounted for. (In particular, we have shown that it is common to see that tunneling is more probable than flying above the barrier; this cannot be achieved in 1D.) According to our recent preliminary simulations, tunneling probability can be controlled by coupling a tunneling quantum particle to the vacuum. We see the evidence for both enhancement and suppression of tunneling. A connection of the simulated evolution with the Purcell effect should be investigated. An example of the experimental realization can be a tunneling junction embedded into a microcavity of a tailored shape. Using this architecture, we could try to assess a possibility for the vacuum assisted Feynman-Smoluchowski ratchet.\n"
   ]
  },
  {
   "cell_type": "code",
   "execution_count": 1,
   "metadata": {},
   "outputs": [],
   "source": [
    "from qutip import *\n",
    "import numpy as np\n",
    "import matplotlib.pyplot as plt\n",
    "from scipy.linalg import funm"
   ]
  },
  {
   "cell_type": "markdown",
   "metadata": {},
   "source": [
    "Quantum particle"
   ]
  },
  {
   "cell_type": "code",
   "execution_count": 2,
   "metadata": {},
   "outputs": [],
   "source": [
    "N = 30\n",
    "\n",
    "a = destroy(N)\n",
    "\n",
    "# momentum operator\n",
    "p = 1j * np.sqrt(0.5 * 1.) * (a.dag() - a)\n",
    "\n",
    "# coordinate operator\n",
    "x = np.sqrt(0.5 / 1.) * (a.dag() + a)\n",
    "\n",
    "# optical mode function of a cavity -- standing wave \n",
    "omega = 2.\n",
    "\n",
    "# note the center position of cavity_mode (x -> x - offset) also affects the dynamics\n",
    "cavity_mode = (1j * omega * x).expm()\n",
    "cavity_mode = 0.5 * (cavity_mode + cavity_mode.dag())\n",
    "\n",
    "# the projector to the right hand side of x\n",
    "proj_right_x = Qobj(funm(x.data.toarray(), lambda x: (x > 0)))"
   ]
  },
  {
   "cell_type": "code",
   "execution_count": 3,
   "metadata": {},
   "outputs": [],
   "source": [
    "p = tensor(p, qeye(N))\n",
    "x = tensor(x, qeye(N))\n",
    "cavity_mode = tensor(cavity_mode, qeye(N))\n",
    "proj_right_x = tensor(proj_right_x, qeye(N))"
   ]
  },
  {
   "cell_type": "markdown",
   "metadata": {},
   "source": [
    "photon fields"
   ]
  },
  {
   "cell_type": "code",
   "execution_count": 4,
   "metadata": {},
   "outputs": [],
   "source": [
    "a = destroy(N)\n",
    "a = tensor(qeye(N), a)\n",
    "\n",
    "\n",
    "\n",
    "# coupling constant\n",
    "kappa = 0."
   ]
  },
  {
   "cell_type": "code",
   "execution_count": 5,
   "metadata": {},
   "outputs": [],
   "source": [
    "time = np.linspace(0, 60, 500)"
   ]
  },
  {
   "cell_type": "markdown",
   "metadata": {},
   "source": [
    "Hamiltonian for the system "
   ]
  },
  {
   "cell_type": "code",
   "execution_count": 6,
   "metadata": {},
   "outputs": [],
   "source": [
    "def evolve(kappa):\n",
    "\n",
    "    # create the hamiltonian of the system\n",
    "    U = 0.007 * x ** 4 - x ** 2\n",
    "    H = 0.5 * p ** 2 + U + omega * a.dag() * a + kappa * (a + a.dag()) * cavity_mode\n",
    "    \n",
    "    # print(np.diff(H.eigenenergies()))\n",
    "    \n",
    "    print(expect(H, tensor(coherent(N, -1), fock(N, 0))))\n",
    "    \n",
    "    # return mesolve(H, tensor(coherent(N, -1), fock(N, 0)), time, [], [proj_right_x])\n",
    "    return mesolve(H, tensor(coherent(N, -1), fock(N, 0)), time, [], [0.5 * p ** 2 + U])"
   ]
  },
  {
   "cell_type": "code",
   "execution_count": 7,
   "metadata": {},
   "outputs": [
    {
     "name": "stdout",
     "output_type": "stream",
     "text": [
      "-2.1747499999999986\n",
      "-2.1747499999999986\n"
     ]
    },
    {
     "data": {
      "image/png": "[encoded data removed]",
      "text/plain": [
       "<Figure size 432x288 with 1 Axes>"
      ]
     },
     "metadata": {
      "needs_background": "light"
     },
     "output_type": "display_data"
    }
   ],
   "source": [
    "plt.plot(time, evolve(0.).expect[0], label='$\\kappa = 0$')\n",
    "plt.plot(time, evolve(10).expect[0], label='$\\kappa = 0.5$')\n",
    "plt.legend()\n",
    "plt.show()"
   ]
  },
  {
   "cell_type": "code",
   "execution_count": null,
   "metadata": {},
   "outputs": [],
   "source": []
  }
 ],
 "metadata": {
  "kernelspec": {
   "display_name": "Python 3",
   "language": "python",
   "name": "python3"
  },
  "language_info": {
   "codemirror_mode": {
    "name": "ipython",
    "version": 3
   },
   "file_extension": ".py",
   "mimetype": "text/x-python",
   "name": "python",
   "nbconvert_exporter": "python",
   "pygments_lexer": "ipython3",
   "version": "3.7.6"
  }
 },
 "nbformat": 4,
 "nbformat_minor": 1
}
