{
 "cells": [
  {
   "cell_type": "markdown",
   "metadata": {
    "collapsed": true
   },
   "source": [
    "# Determining velocity by intensity measurement"
   ]
  },
  {
   "cell_type": "markdown",
   "metadata": {},
   "source": [
    "## Finding intensity pater of 3x3 pixels "
   ]
  },
  {
   "cell_type": "code",
   "execution_count": 1,
   "metadata": {},
   "outputs": [],
   "source": [
    "import numpy as np\n",
    "from itertools import combinations, product\n",
    "from collections import defaultdict\n",
    "import matplotlib.pyplot as plt"
   ]
  },
  {
   "cell_type": "code",
   "execution_count": 4,
   "metadata": {},
   "outputs": [
    {
     "data": {
      "text/plain": [
       "array([[0, 1, 2],\n",
       "       [3, 4, 5],\n",
       "       [6, 7, 8]])"
      ]
     },
     "execution_count": 4,
     "metadata": {},
     "output_type": "execute_result"
    }
   ],
   "source": [
    "np.arange(9).reshape((3, 3))"
   ]
  },
  {
   "cell_type": "code",
   "execution_count": null,
   "metadata": {},
   "outputs": [],
   "source": [
    "# list of all posible 3 pixel paths\n",
    "paths = []"
   ]
  },
  {
   "cell_type": "markdown",
   "metadata": {},
   "source": [
    "## Random intensity patern"
   ]
  },
  {
   "cell_type": "code",
   "execution_count": 263,
   "metadata": {},
   "outputs": [],
   "source": [
    "intensity = np.random.rand(9)"
   ]
  },
  {
   "cell_type": "markdown",
   "metadata": {},
   "source": [
    "Check for collisions"
   ]
  },
  {
   "cell_type": "code",
   "execution_count": 264,
   "metadata": {},
   "outputs": [],
   "source": [
    "collisions = defaultdict(list)\n",
    "\n",
    "for mask in product((True, False), repeat=len(intensity)):\n",
    "    mask = np.array(mask)\n",
    "    total_intensity = intensity[mask].sum()\n",
    "    collisions[total_intensity].append(mask)"
   ]
  },
  {
   "cell_type": "code",
   "execution_count": 273,
   "metadata": {},
   "outputs": [],
   "source": [
    "def rounding_vs_number_of_collisions(intensity):\n",
    "    \n",
    "    decimals = np.arange(2, 9)\n",
    "    \n",
    "    nunique_elements = []\n",
    "    \n",
    "    for dec in decimals:\n",
    "        rounded_intensity = np.round(intensity, decimals=dec)\n",
    "        \n",
    "        nunique_elements.append(\n",
    "            len(\n",
    "                {\n",
    "                    rounded_intensity[np.array(mask)].sum() for mask in product((True, False), repeat=len(intensity))\n",
    "                }\n",
    "            )\n",
    "        )\n",
    "    \n",
    "    plt.plot(decimals, nunique_elements, '*-')\n",
    "    plt.show()\n",
    "\n",
    "    print(max(nunique_elements))"
   ]
  },
  {
   "cell_type": "code",
   "execution_count": 272,
   "metadata": {},
   "outputs": [
    {
     "name": "stdout",
     "output_type": "stream",
     "text": [
      "512\n"
     ]
    },
    {
     "data": {
      "image/png": "[encoded data removed]",
      "text/plain": [
       "<Figure size 432x288 with 1 Axes>"
      ]
     },
     "metadata": {
      "needs_background": "light"
     },
     "output_type": "display_data"
    }
   ],
   "source": [
    "rounding_vs_number_of_collisions(intensity)"
   ]
  },
  {
   "cell_type": "code",
   "execution_count": 276,
   "metadata": {},
   "outputs": [
    {
     "data": {
      "text/plain": [
       "[<matplotlib.lines.Line2D at 0x1227e4e10>]"
      ]
     },
     "execution_count": 276,
     "metadata": {},
     "output_type": "execute_result"
    },
    {
     "data": {
      "image/png": "[encoded data removed]",
      "text/plain": [
       "<Figure size 432x288 with 1 Axes>"
      ]
     },
     "metadata": {
      "needs_background": "light"
     },
     "output_type": "display_data"
    }
   ],
   "source": [
    "plt.plot(np.sort(intensity), '*-')"
   ]
  },
  {
   "cell_type": "markdown",
   "metadata": {},
   "source": [
    "## Using genetic algorithm to find the algorithm with least collisions"
   ]
  },
  {
   "cell_type": "code",
   "execution_count": 221,
   "metadata": {},
   "outputs": [],
   "source": [
    "import array\n",
    "import random\n",
    "\n",
    "import numpy\n",
    "\n",
    "from deap import algorithms\n",
    "from deap import base\n",
    "from deap import creator\n",
    "from deap import tools\n",
    "\n",
    "creator.create(\"FitnessMax\", base.Fitness, weights=(1.0,))\n",
    "creator.create(\"Individual\", array.array, typecode='B', fitness=creator.FitnessMax)\n",
    "\n",
    "toolbox = base.Toolbox()\n",
    "\n",
    "# Attribute generator\n",
    "toolbox.register(\"attr_bool\", random.randrange, 0, 255)\n",
    "\n",
    "# Structure initializers\n",
    "toolbox.register(\"individual\", tools.initRepeat, creator.Individual, toolbox.attr_bool, 9)\n",
    "toolbox.register(\"population\", tools.initRepeat, list, toolbox.individual)\n",
    "\n",
    "\"\"\"\n",
    "def nunique(individual):\n",
    "    \n",
    "    total_intensity = set()\n",
    "    \n",
    "    for r in range(1, len(individual) + 1):\n",
    "        total_intensity.update(\n",
    "            sum(comb) for comb in combinations(individual, r)\n",
    "        )\n",
    "\n",
    "    return len(total_intensity),\n",
    "\"\"\"\n",
    "\n",
    "def nunique(individual):\n",
    "    \n",
    "    total_intensity = set()\n",
    "    \n",
    "    for r in range(1, len(individual) + 1):\n",
    "        \"\"\"\n",
    "        for comb in combinations(individual, r):\n",
    "            \n",
    "            val = sum(comb[:-1])\n",
    "            last = comb[-1]\n",
    "            \n",
    "            total_intensity.update(\n",
    "                round(val + k * last / 5.) for k in range(1, 5)\n",
    "            )\n",
    "        \"\"\"\n",
    "        total_intensity.update(\n",
    "            sum(comb) for comb in combinations(individual, r)\n",
    "        )\n",
    "    \n",
    "    return len(total_intensity),\n",
    "\n",
    "\n",
    "\n",
    "toolbox.register(\"evaluate\", nunique)\n",
    "toolbox.register(\"mate\", tools.cxTwoPoint)\n",
    "toolbox.register(\"mutate\", tools.mutUniformInt, low=0, up=255, indpb=0.05)\n",
    "toolbox.register(\"select\", tools.selTournament, tournsize=3)\n",
    "\n",
    "#random.seed(64)\n",
    "    \n",
    "pop = toolbox.population(n=300)\n",
    "hof = tools.HallOfFame(1)\n",
    "stats = tools.Statistics(lambda ind: ind.fitness.values)\n",
    "stats.register(\"avg\", numpy.mean)\n",
    "stats.register(\"std\", numpy.std)\n",
    "stats.register(\"min\", numpy.min)\n",
    "stats.register(\"max\", numpy.max)"
   ]
  },
  {
   "cell_type": "code",
   "execution_count": 222,
   "metadata": {},
   "outputs": [
    {
     "name": "stdout",
     "output_type": "stream",
     "text": [
      "gen\tnevals\tavg   \tstd    \tmin\tmax\n",
      "0  \t300   \t363.84\t59.5858\t172\t469\n",
      "1  \t166   \t400.143\t36.386 \t281\t469\n",
      "2  \t148   \t413.627\t35.6285\t251\t481\n",
      "3  \t168   \t422.72 \t35.0454\t277\t487\n",
      "4  \t164   \t429.737\t33.0511\t315\t493\n",
      "5  \t156   \t436.163\t36.2735\t274\t493\n",
      "6  \t179   \t437.79 \t38.7901\t311\t493\n",
      "7  \t146   \t449.01 \t32.8829\t247\t493\n",
      "8  \t167   \t449.353\t39.8568\t303\t495\n",
      "9  \t173   \t455.277\t37.8476\t324\t495\n",
      "10 \t165   \t460.063\t41.1942\t283\t495\n",
      "11 \t155   \t464.98 \t40.1808\t303\t495\n",
      "12 \t159   \t473.033\t37.1253\t313\t497\n",
      "13 \t177   \t475.633\t39.9277\t289\t497\n",
      "14 \t163   \t473.467\t42.0973\t289\t497\n",
      "15 \t171   \t468.377\t49.3167\t255\t497\n",
      "16 \t161   \t474.453\t43.458 \t289\t497\n",
      "17 \t161   \t476.757\t43.5644\t283\t507\n",
      "18 \t149   \t482.583\t37.1102\t249\t507\n",
      "19 \t150   \t478.86 \t40.3637\t303\t507\n",
      "20 \t171   \t477.03 \t46.8346\t256\t507\n",
      "21 \t170   \t490.893\t27.055 \t343\t507\n",
      "22 \t163   \t499.507\t13.0679\t409\t507\n",
      "23 \t167   \t502.55 \t16.8509\t351\t507\n",
      "24 \t192   \t503.763\t18.4476\t365\t507\n",
      "25 \t167   \t505.197\t10.691 \t398\t507\n",
      "26 \t178   \t503.453\t18.6027\t339\t507\n",
      "27 \t163   \t502.667\t19.5051\t338\t507\n",
      "28 \t156   \t503.453\t17.8848\t335\t507\n",
      "29 \t174   \t504.913\t13.9415\t359\t507\n",
      "30 \t159   \t505.443\t11.4708\t371\t507\n",
      "31 \t172   \t503.267\t18.3982\t343\t507\n",
      "32 \t179   \t504.047\t15.7579\t348\t507\n",
      "33 \t159   \t503.923\t17.2564\t365\t507\n",
      "34 \t143   \t504.763\t13.7274\t360\t507\n",
      "35 \t151   \t503.83 \t20.5902\t256\t507\n",
      "36 \t166   \t504.733\t12.344 \t390\t507\n",
      "37 \t158   \t504.567\t15.2346\t343\t507\n",
      "38 \t165   \t505.833\t9.15891\t407\t507\n",
      "39 \t160   \t505.337\t14.8534\t285\t507\n",
      "40 \t159   \t502.067\t20.3033\t371\t507\n",
      "41 \t187   \t504.23 \t13.6681\t383\t507\n",
      "42 \t168   \t505.29 \t13.621 \t346\t507\n",
      "43 \t158   \t504.177\t16.222 \t350\t507\n",
      "44 \t156   \t503.673\t17.777 \t367\t507\n",
      "45 \t171   \t504.65 \t14.0072\t395\t507\n",
      "46 \t168   \t504.37 \t13.6135\t387\t507\n",
      "47 \t188   \t504.227\t15.7882\t349\t507\n",
      "48 \t166   \t504.813\t13.5097\t365\t507\n",
      "49 \t169   \t504.717\t13.9151\t373\t507\n",
      "50 \t181   \t504.393\t14.1957\t393\t507\n",
      "51 \t150   \t505.207\t11.0618\t397\t507\n",
      "52 \t173   \t504.703\t13.7969\t355\t507\n",
      "53 \t164   \t503.63 \t16.7569\t367\t507\n",
      "54 \t175   \t505.253\t12.5088\t371\t509\n",
      "55 \t173   \t502.423\t21.8516\t331\t509\n",
      "56 \t173   \t504.797\t13.6135\t383\t509\n",
      "57 \t162   \t505.09 \t12.8632\t383\t509\n",
      "58 \t158   \t505.037\t15.0447\t365\t509\n",
      "59 \t161   \t506.21 \t12.7211\t399\t509\n",
      "60 \t193   \t505.937\t17.3391\t361\t509\n",
      "61 \t169   \t507.38 \t10.9688\t411\t509\n",
      "62 \t159   \t507.677\t9.61798\t411\t509\n",
      "63 \t180   \t506.367\t13.878 \t407\t509\n",
      "64 \t155   \t507.347\t10.2518\t415\t509\n",
      "65 \t157   \t505.22 \t20.6137\t331\t509\n",
      "66 \t162   \t506.103\t15.1739\t377\t509\n",
      "67 \t149   \t505.387\t17.0003\t355\t509\n",
      "68 \t190   \t506.523\t14.9185\t355\t509\n",
      "69 \t174   \t505.533\t17.082 \t375\t509\n",
      "70 \t165   \t506.513\t14.6721\t378\t509\n",
      "71 \t159   \t507.117\t11.9067\t415\t509\n",
      "72 \t155   \t506.497\t13.0375\t389\t509\n",
      "73 \t155   \t505.98 \t16.315 \t349\t509\n",
      "74 \t189   \t506.413\t14.2247\t399\t509\n",
      "75 \t150   \t506.05 \t15.8903\t369\t509\n",
      "76 \t167   \t505.077\t21.4663\t283\t509\n",
      "77 \t164   \t505.24 \t19.2398\t360\t509\n",
      "78 \t178   \t508.133\t7.29353\t423\t509\n",
      "79 \t154   \t505.8  \t15.1345\t397\t509\n",
      "80 \t158   \t505.433\t19.9059\t313\t509\n",
      "81 \t183   \t506.42 \t14.5374\t361\t509\n",
      "82 \t183   \t506.643\t13.7124\t355\t509\n",
      "83 \t177   \t506.353\t14.3734\t398\t509\n",
      "84 \t183   \t506.65 \t14.1782\t388\t509\n",
      "85 \t181   \t505.777\t17.5355\t317\t509\n",
      "86 \t168   \t506.38 \t18.3043\t256\t509\n",
      "87 \t150   \t506.633\t13.4922\t391\t509\n",
      "88 \t152   \t505.47 \t18.0887\t359\t509\n",
      "89 \t163   \t506.707\t15.8957\t335\t509\n",
      "90 \t172   \t506.213\t14.3667\t373\t509\n",
      "91 \t164   \t505.977\t17.519 \t351\t509\n",
      "92 \t159   \t507.82 \t8.83521\t409\t509\n",
      "93 \t160   \t506.703\t17.8507\t256\t509\n",
      "94 \t151   \t505.03 \t19.0339\t379\t509\n",
      "95 \t155   \t507.067\t13.5812\t371\t509\n",
      "96 \t146   \t506.093\t16.0364\t378\t509\n",
      "97 \t171   \t505.537\t20.6413\t256\t509\n",
      "98 \t162   \t504.563\t19.6494\t387\t509\n",
      "99 \t169   \t506.323\t15.7283\t355\t509\n",
      "100\t184   \t506.847\t14.6482\t340\t509\n"
     ]
    }
   ],
   "source": [
    "\n",
    "pop, log = algorithms.eaSimple(pop, toolbox, cxpb=0.5, mutpb=0.1, ngen=100, \n",
    "                                   stats=stats, halloffame=hof, verbose=True)"
   ]
  },
  {
   "cell_type": "code",
   "execution_count": 216,
   "metadata": {
    "scrolled": true
   },
   "outputs": [
    {
     "data": {
      "text/plain": [
       "<matplotlib.colorbar.Colorbar at 0x122282fd0>"
      ]
     },
     "execution_count": 216,
     "metadata": {},
     "output_type": "execute_result"
    },
    {
     "data": {
      "image/png": "[encoded data removed]",
      "text/plain": [
       "<Figure size 432x288 with 2 Axes>"
      ]
     },
     "metadata": {
      "needs_background": "light"
     },
     "output_type": "display_data"
    }
   ],
   "source": [
    "plt.title('Optimized intensisty patern')\n",
    "plt.imshow(\n",
    "    np.array(hof.items[0]).reshape(4, 4),\n",
    "    cmap='hot'\n",
    ")\n",
    "plt.colorbar()"
   ]
  },
  {
   "cell_type": "code",
   "execution_count": 223,
   "metadata": {},
   "outputs": [
    {
     "data": {
      "text/plain": [
       "[<matplotlib.lines.Line2D at 0x123828e10>]"
      ]
     },
     "execution_count": 223,
     "metadata": {},
     "output_type": "execute_result"
    },
    {
     "data": {
      "image/png": "[encoded data removed]",
      "text/plain": [
       "<Figure size 432x288 with 1 Axes>"
      ]
     },
     "metadata": {
      "needs_background": "light"
     },
     "output_type": "display_data"
    }
   ],
   "source": [
    "plt.plot(np.sort(hof.items[0]), '*-')"
   ]
  },
  {
   "cell_type": "code",
   "execution_count": 104,
   "metadata": {},
   "outputs": [
    {
     "data": {
      "text/plain": [
       "<matplotlib.colorbar.Colorbar at 0x12183ff90>"
      ]
     },
     "execution_count": 104,
     "metadata": {},
     "output_type": "execute_result"
    },
    {
     "data": {
      "image/png": "[encoded data removed]",
      "text/plain": [
       "<Figure size 432x288 with 2 Axes>"
      ]
     },
     "metadata": {
      "needs_background": "light"
     },
     "output_type": "display_data"
    }
   ],
   "source": [
    "plt.title('Optimized intensisty patern')\n",
    "plt.imshow(\n",
    "    np.array(hof.items[0]).reshape(3, 3),\n",
    "    cmap='hot'\n",
    ")\n",
    "plt.colorbar()"
   ]
  },
  {
   "cell_type": "code",
   "execution_count": 151,
   "metadata": {},
   "outputs": [],
   "source": [
    "\n",
    "def nunique(individual):\n",
    "    \n",
    "    total_intensity = set()\n",
    "    \n",
    "    q = 0\n",
    "    \n",
    "    for r in range(1, len(individual) + 1):\n",
    "        for comb in combinations(individual, r):\n",
    "            \n",
    "            val = sum(comb[:-1])\n",
    "            last = comb[-1]\n",
    "            \n",
    "            total_intensity.update(\n",
    "                round(val + k * last / 10.) for k in range(1, 10)\n",
    "            )\n",
    "            q += 9\n",
    "    \n",
    "    print(q)\n",
    "    return len(total_intensity),"
   ]
  },
  {
   "cell_type": "code",
   "execution_count": 152,
   "metadata": {},
   "outputs": [
    {
     "name": "stdout",
     "output_type": "stream",
     "text": [
      "4599\n"
     ]
    },
    {
     "data": {
      "text/plain": [
       "(1512,)"
      ]
     },
     "execution_count": 152,
     "metadata": {},
     "output_type": "execute_result"
    }
   ],
   "source": [
    "nunique(hof.items[0])"
   ]
  },
  {
   "cell_type": "code",
   "execution_count": 135,
   "metadata": {},
   "outputs": [
    {
     "data": {
      "text/plain": [
       "Individual('B', [130, 191, 240, 67, 248, 5, 244, 24, 12])"
      ]
     },
     "execution_count": 135,
     "metadata": {},
     "output_type": "execute_result"
    }
   ],
   "source": [
    "hof.items[0]"
   ]
  },
  {
   "cell_type": "code",
   "execution_count": 130,
   "metadata": {},
   "outputs": [
    {
     "data": {
      "text/plain": [
       "1024"
      ]
     },
     "execution_count": 130,
     "metadata": {},
     "output_type": "execute_result"
    }
   ],
   "source": [
    "2 ** 10"
   ]
  },
  {
   "cell_type": "code",
   "execution_count": 150,
   "metadata": {},
   "outputs": [
    {
     "data": {
      "text/plain": [
       "9"
      ]
     },
     "execution_count": 150,
     "metadata": {},
     "output_type": "execute_result"
    }
   ],
   "source": [
    "len(list(range(1, 10)))"
   ]
  },
  {
   "cell_type": "code",
   "execution_count": 161,
   "metadata": {},
   "outputs": [
    {
     "data": {
      "text/plain": [
       "0.255"
      ]
     },
     "execution_count": 161,
     "metadata": {},
     "output_type": "execute_result"
    }
   ],
   "source": [
    "np.round(255/1000, decimals=3)"
   ]
  },
  {
   "cell_type": "code",
   "execution_count": null,
   "metadata": {},
   "outputs": [],
   "source": []
  },
  {
   "cell_type": "code",
   "execution_count": null,
   "metadata": {},
   "outputs": [],
   "source": []
  },
  {
   "cell_type": "code",
   "execution_count": null,
   "metadata": {},
   "outputs": [],
   "source": []
  }
 ],
 "metadata": {
  "kernelspec": {
   "display_name": "Python 3",
   "language": "python",
   "name": "python3"
  },
  "language_info": {
   "codemirror_mode": {
    "name": "ipython",
    "version": 3
   },
   "file_extension": ".py",
   "mimetype": "text/x-python",
   "name": "python",
   "nbconvert_exporter": "python",
   "pygments_lexer": "ipython3",
   "version": "3.7.4"
  }
 },
 "nbformat": 4,
 "nbformat_minor": 1
}
