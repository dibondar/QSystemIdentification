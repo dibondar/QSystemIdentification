{
 "cells": [
  {
   "cell_type": "markdown",
   "metadata": {},
   "source": [
    "# Bilinear system identification with one output\n",
    "\n",
    "This version was developed for the DOE proposal. Main advantage is that it does not assume that the system starts from the null initial state"
   ]
  },
  {
   "cell_type": "code",
   "execution_count": 1,
   "metadata": {},
   "outputs": [],
   "source": [
    "import numpy as np\n",
    "from scipy.integrate import odeint\n",
    "from itertools import repeat\n",
    "import matplotlib.pyplot as plt\n",
    "from scipy.linalg import logm, hankel, svd, lstsq"
   ]
  },
  {
   "cell_type": "code",
   "execution_count": 2,
   "metadata": {},
   "outputs": [],
   "source": [
    "# Magnitudes of the controls\n",
    "v = 2.5\n",
    "# time step for measurements\n",
    "dt = 1"
   ]
  },
  {
   "cell_type": "code",
   "execution_count": 3,
   "metadata": {},
   "outputs": [],
   "source": [
    "def response(*, Ac, Nc, C, x0):\n",
    "    \n",
    "    def rhs_eq(x, t, E):\n",
    "        \"\"\"\n",
    "        the rhs of the equation of motion\n",
    "        \"\"\"\n",
    "        return (Ac + Nc * E) @ x\n",
    "    \n",
    "    time = dt * np.arange(20)\n",
    "        \n",
    "    # save response when only E is on\n",
    "    responce = []\n",
    "        \n",
    "    for n in range(2, 7):\n",
    "        # response when only u1 is on\n",
    "        x_on = odeint(rhs_eq, x0, time[:n], args=(v,))\n",
    "        x_off = odeint(rhs_eq, x_on[-1], time[(n-1):], args=(0.,))[1:]\n",
    "        \n",
    "        responce.append(\n",
    "            np.vstack([x_on, x_off]) @ C\n",
    "        )\n",
    "            \n",
    "    return np.array(responce)"
   ]
  },
  {
   "cell_type": "code",
   "execution_count": 4,
   "metadata": {},
   "outputs": [],
   "source": [
    "# Matricies from the example in paper\n",
    "Ac = np.array([[-1, 0], [1, -2]])\n",
    "Nc = np.array([[0, 0], [1, 1]])\n",
    "C = np.array([1, 1])\n",
    "x0 = np.array([0.5, 0.1])"
   ]
  },
  {
   "cell_type": "code",
   "execution_count": 5,
   "metadata": {},
   "outputs": [],
   "source": [
    "orig_responces = response(Ac=Ac, Nc=Nc, C=C, x0=x0)"
   ]
  },
  {
   "cell_type": "code",
   "execution_count": 6,
   "metadata": {},
   "outputs": [
    {
     "data": {
      "image/png": "[encoded data removed]",
      "text/plain": [
       "<Figure size 432x288 with 1 Axes>"
      ]
     },
     "metadata": {
      "needs_background": "light"
     },
     "output_type": "display_data"
    }
   ],
   "source": [
    "plt.title(\"Responces\")\n",
    "plt.plot(orig_responces.T)\n",
    "plt.xlabel(\"time in units of dt\")\n",
    "plt.ylabel(\"response\")\n",
    "plt.show()"
   ]
  },
  {
   "cell_type": "markdown",
   "metadata": {},
   "source": [
    "# System identification\n",
    "\n",
    "## identify $C$ and $A_c$"
   ]
  },
  {
   "cell_type": "code",
   "execution_count": null,
   "metadata": {},
   "outputs": [],
   "source": []
  },
  {
   "cell_type": "code",
   "execution_count": 7,
   "metadata": {},
   "outputs": [],
   "source": [
    "Y1 = orig_responces[0]"
   ]
  },
  {
   "cell_type": "code",
   "execution_count": 8,
   "metadata": {},
   "outputs": [],
   "source": [
    "# The shape of the hankel matrix \n",
    "alpha = 5"
   ]
  },
  {
   "cell_type": "code",
   "execution_count": 9,
   "metadata": {},
   "outputs": [],
   "source": [
    "U1, Sigma1, V1_T = svd(hankel(Y1[1:(alpha + 1)], Y1[alpha:]), full_matrices=False)"
   ]
  },
  {
   "cell_type": "code",
   "execution_count": 10,
   "metadata": {},
   "outputs": [
    {
     "data": {
      "text/plain": [
       "array([1.90816099e+00, 2.00605271e-02, 8.69366206e-09, 6.50406857e-09,\n",
       "       2.85317352e-09])"
      ]
     },
     "execution_count": 10,
     "metadata": {},
     "output_type": "execute_result"
    }
   ],
   "source": [
    "Sigma1"
   ]
  },
  {
   "cell_type": "code",
   "execution_count": 11,
   "metadata": {},
   "outputs": [],
   "source": [
    "# we see that the rank of the system is 2\n",
    "rank = 2"
   ]
  },
  {
   "cell_type": "code",
   "execution_count": 12,
   "metadata": {},
   "outputs": [],
   "source": [
    "# declare parameters\n",
    "m = 1 # number of outputs \n",
    "r = 1 # number of controls\n",
    "p = 5 # number of measurments"
   ]
  },
  {
   "cell_type": "code",
   "execution_count": 13,
   "metadata": {},
   "outputs": [],
   "source": [
    "C_reconstructed = U1[:m, :rank]"
   ]
  },
  {
   "cell_type": "code",
   "execution_count": 14,
   "metadata": {},
   "outputs": [],
   "source": [
    "U1_up = U1[:-m,]\n",
    "U1_down = U1[m:,]"
   ]
  },
  {
   "cell_type": "code",
   "execution_count": 15,
   "metadata": {},
   "outputs": [],
   "source": [
    "Ac_reconstructed = logm(\n",
    "    lstsq(U1_up, U1_down)[0][:rank, :rank] \n",
    ") / dt"
   ]
  },
  {
   "cell_type": "code",
   "execution_count": 16,
   "metadata": {},
   "outputs": [],
   "source": [
    "# Calculate B1_bar as save it into the B_bar list\n",
    "B_bar = [\n",
    "    (Sigma1[..., None] * V1_T)[:rank, :r]\n",
    "]"
   ]
  },
  {
   "cell_type": "code",
   "execution_count": 17,
   "metadata": {},
   "outputs": [],
   "source": [
    "# truncate the rank of matrix\n",
    "U1 = U1[:, :rank]"
   ]
  },
  {
   "cell_type": "code",
   "execution_count": 18,
   "metadata": {},
   "outputs": [
    {
     "name": "stdout",
     "output_type": "stream",
     "text": [
      "Is U1 left unitary?\n"
     ]
    },
    {
     "data": {
      "text/plain": [
       "True"
      ]
     },
     "execution_count": 18,
     "metadata": {},
     "output_type": "execute_result"
    }
   ],
   "source": [
    "print(\"Is U1 left unitary?\")\n",
    "np.allclose(U1.conj().T @ U1, np.eye(rank))\n",
    "# this is very important for calculating B2_bar, B3_bar etc"
   ]
  },
  {
   "cell_type": "markdown",
   "metadata": {},
   "source": [
    "## Identify $N_{ci}$ and the initial condition $x(0)$"
   ]
  },
  {
   "cell_type": "code",
   "execution_count": 19,
   "metadata": {},
   "outputs": [],
   "source": [
    "B_bar.extend(\n",
    "    U1.conj().T @ orig_responces[k - 1, k:(k + alpha)][..., None] for k in range(2, p + 1)\n",
    ")"
   ]
  },
  {
   "cell_type": "code",
   "execution_count": 20,
   "metadata": {},
   "outputs": [
    {
     "data": {
      "text/plain": [
       "[array([[-1.87503523],\n",
       "        [ 0.00358517]]),\n",
       " array([[-3.38563933],\n",
       "        [ 0.14582554]]),\n",
       " array([[-5.69021631],\n",
       "        [ 0.29189738]]),\n",
       " array([[-9.4214002],\n",
       "        [ 0.5001928]]),\n",
       " array([[-15.54791172],\n",
       "        [  0.83164441]])]"
      ]
     },
     "execution_count": 20,
     "metadata": {},
     "output_type": "execute_result"
    }
   ],
   "source": [
    "B_bar"
   ]
  },
  {
   "cell_type": "code",
   "execution_count": 21,
   "metadata": {},
   "outputs": [],
   "source": [
    "C = [c.reshape(p, rank).T for c in np.hsplit(np.vstack(B_bar), 1)]\n",
    "C_right = [c[:, 1:] for c in C]\n",
    "C_left = [c[:, :-1] for c in C]"
   ]
  },
  {
   "cell_type": "code",
   "execution_count": 22,
   "metadata": {},
   "outputs": [],
   "source": [
    "A_bar = [lstsq(left.T, right.T)[0].T for left, right in zip(C_left, C_right)]"
   ]
  },
  {
   "cell_type": "code",
   "execution_count": 23,
   "metadata": {},
   "outputs": [],
   "source": [
    "Nc_reconstructed = [(logm(a) / dt - Ac_reconstructed) / vi for a, vi in zip(A_bar, repeat(v, r))]"
   ]
  },
  {
   "cell_type": "code",
   "execution_count": 24,
   "metadata": {},
   "outputs": [],
   "source": [
    "# get the intial state\n",
    "lhs_x0 = []\n",
    "\n",
    "for a in A_bar:\n",
    "    pow_a = a\n",
    "    \n",
    "    for _ in range(p):\n",
    "        lhs_x0.append(pow_a)\n",
    "        pow_a = pow_a @ a\n",
    "\n",
    "rhs_x0 = [c.T.reshape(-1, 1) for c in C]\n",
    "\n",
    "x0_reconstructed = lstsq(np.vstack(lhs_x0), np.vstack(rhs_x0), overwrite_a=True, overwrite_b=True)[0]"
   ]
  },
  {
   "cell_type": "markdown",
   "metadata": {},
   "source": [
    "# Comparing the responses"
   ]
  },
  {
   "cell_type": "code",
   "execution_count": 25,
   "metadata": {},
   "outputs": [],
   "source": [
    "reconstructed_responces = response(\n",
    "    Ac=Ac_reconstructed, \n",
    "    Nc=Nc_reconstructed[0],\n",
    "    C=C_reconstructed[0], \n",
    "    x0=x0_reconstructed.reshape(-1)\n",
    ")"
   ]
  },
  {
   "cell_type": "code",
   "execution_count": 26,
   "metadata": {},
   "outputs": [
    {
     "name": "stdout",
     "output_type": "stream",
     "text": [
      "Error of reconstruction:  0.0001432551228851553\n"
     ]
    }
   ],
   "source": [
    "print(\"Error of reconstruction: \", np.abs(reconstructed_responces - orig_responces).max())"
   ]
  },
  {
   "cell_type": "code",
   "execution_count": 27,
   "metadata": {},
   "outputs": [
    {
     "data": {
      "image/png": "[encoded data removed]",
      "text/plain": [
       "<Figure size 432x288 with 1 Axes>"
      ]
     },
     "metadata": {
      "needs_background": "light"
     },
     "output_type": "display_data"
    },
    {
     "data": {
      "image/png": "[encoded data removed]",
      "text/plain": [
       "<Figure size 432x288 with 1 Axes>"
      ]
     },
     "metadata": {
      "needs_background": "light"
     },
     "output_type": "display_data"
    }
   ],
   "source": [
    "plt.title(\"Original responces\")\n",
    "plt.plot(orig_responces.T)\n",
    "plt.xlabel(\"time in units of dt\")\n",
    "plt.ylabel(\"response\")\n",
    "plt.show()\n",
    "\n",
    "plt.title(\"Reconstructed responces\")\n",
    "plt.plot(reconstructed_responces.T)\n",
    "plt.xlabel(\"time in units of dt\")\n",
    "plt.ylabel(\"response\")\n",
    "plt.show()"
   ]
  },
  {
   "cell_type": "code",
   "execution_count": null,
   "metadata": {},
   "outputs": [],
   "source": []
  }
 ],
 "metadata": {
  "kernelspec": {
   "display_name": "Python 3",
   "language": "python",
   "name": "python3"
  },
  "language_info": {
   "codemirror_mode": {
    "name": "ipython",
    "version": 3
   },
   "file_extension": ".py",
   "mimetype": "text/x-python",
   "name": "python",
   "nbconvert_exporter": "python",
   "pygments_lexer": "ipython3",
   "version": "3.7.6"
  }
 },
 "nbformat": 4,
 "nbformat_minor": 4
}
